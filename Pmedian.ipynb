{
 "cells": [
  {
   "cell_type": "code",
   "execution_count": 1,
   "metadata": {},
   "outputs": [],
   "source": [
    "import osmnx as ox\n",
    "import networkx as nx\n",
    "import geopandas as gpd\n",
    "from shapely.geometry import Point, Polygon\n",
    "import matplotlib.pyplot as plt\n",
    "import os\n",
    "import pandas as pd\n",
    "from shapely.ops import unary_union"
   ]
  },
  {
   "cell_type": "code",
   "execution_count": 2,
   "metadata": {},
   "outputs": [
    {
     "name": "stdout",
     "output_type": "stream",
     "text": [
      "Original CRS: epsg:4326\n",
      "Projected CRS: EPSG:27700\n"
     ]
    }
   ],
   "source": [
    "# define the place name for the west midlands area\n",
    "place_name = \"West midlands, UK\"\n",
    "# download the road network data from osmnx from the OSM API\n",
    "RoadNetworkGraph = ox.graph_from_place(place_name, network_type='drive')\n",
    "print(f\"Original CRS: {RoadNetworkGraph.graph['crs']}\")\n",
    "# project the road network to the British National Grid (EPSG:27700)\n",
    "RoadNetworkGraph_projected = ox.project_graph(RoadNetworkGraph, to_crs='EPSG:27700')\n",
    "# check the CRS\n",
    "print(f\"Projected CRS: {RoadNetworkGraph_projected.graph['crs']}\")"
   ]
  },
  {
   "cell_type": "code",
   "execution_count": 3,
   "metadata": {},
   "outputs": [
    {
     "name": "stdout",
     "output_type": "stream",
     "text": [
      "Number of nodes: 83323\n",
      "Number of edges: 184282\n"
     ]
    }
   ],
   "source": [
    "# check how many nodes and edges in the graph\n",
    "print(f\"Number of nodes: {len(RoadNetworkGraph_projected.nodes)}\")\n",
    "print(f\"Number of edges: {len(RoadNetworkGraph_projected.edges)}\")"
   ]
  },
  {
   "cell_type": "code",
   "execution_count": 4,
   "metadata": {},
   "outputs": [
    {
     "name": "stdout",
     "output_type": "stream",
     "text": [
      "Is the graph directed? True\n",
      "Is the graph fully connected? True\n"
     ]
    }
   ],
   "source": [
    "# check if the network is a directed graph\n",
    "print(f\"Is the graph directed? {nx.is_directed(RoadNetworkGraph_projected)}\")\n",
    "# change the graph to an undirected graph\n",
    "RoadNetworkGraph_undirected = RoadNetworkGraph_projected.to_undirected()\n",
    "# check if the network is fully connected\n",
    "print(f\"Is the graph fully connected? {nx.is_connected(RoadNetworkGraph_undirected)}\")"
   ]
  },
  {
   "cell_type": "code",
   "execution_count": 5,
   "metadata": {},
   "outputs": [],
   "source": [
    "import pulp\n",
    "import numpy as np\n",
    "import geopandas as gpd\n",
    "from shapely.geometry import Point, Polygon\n",
    "import numpy as np\n",
    "from scipy.spatial.distance import cdist"
   ]
  },
  {
   "cell_type": "code",
   "execution_count": 6,
   "metadata": {},
   "outputs": [],
   "source": [
    "# import the boundary of the west midlands area\n",
    "Area_boundary = gpd.read_file(os.path.join(\"data/westmidslands/westmidlands.shp\"))\n"
   ]
  },
  {
   "cell_type": "code",
   "execution_count": 7,
   "metadata": {},
   "outputs": [
    {
     "name": "stdout",
     "output_type": "stream",
     "text": [
      "Area_boundary's CRS: EPSG:27700\n"
     ]
    }
   ],
   "source": [
    "# check area_boundary's crs\n",
    "print(f\"Area_boundary's CRS: {Area_boundary.crs}\")"
   ]
  },
  {
   "cell_type": "markdown",
   "metadata": {},
   "source": [
    "**Generate Candidate Points**"
   ]
  },
  {
   "cell_type": "code",
   "execution_count": 8,
   "metadata": {},
   "outputs": [
    {
     "name": "stdout",
     "output_type": "stream",
     "text": [
      "Number of candidate points: 897\n",
      "Maximum candidate point id: 896\n"
     ]
    }
   ],
   "source": [
    "# let us generate a grid of points within the boundary of the west midlands area\n",
    "polygon = Area_boundary.geometry.iloc[0]\n",
    "\n",
    "# define the grid spacing (1000 meters)\n",
    "grid_spacing = 1000  # 1000 meters\n",
    "\n",
    "# get the bounds of the polygon\n",
    "minx, miny, maxx, maxy = polygon.bounds\n",
    "\n",
    "# generate the x and y coordinates for the grid points\n",
    "x_coords = np.arange(minx, maxx, grid_spacing)\n",
    "y_coords = np.arange(miny, maxy, grid_spacing)\n",
    "grid_points = [Point(x, y) for x in x_coords for y in y_coords]\n",
    "\n",
    "# filter out the points that are outside the polygon\n",
    "points_within_polygon = [point for point in grid_points if polygon.contains(point)]\n",
    "\n",
    "# create a geodataframe for the points\n",
    "Candidate_points_1000_gdf = gpd.GeoDataFrame(geometry=points_within_polygon, crs=Area_boundary.crs)\n",
    "\n",
    "# let the index of the candidate points be the candidate point id\n",
    "Candidate_points_1000_gdf['candidate_point_id'] = Candidate_points_1000_gdf.index\n",
    "Candidate_points_1000_gdf.columns\n",
    "\n",
    "#convert the Candidate_points_1000_gdf, a geopandas frame, back to a pandas dataframe where transform the geometry to two columns of northing and easting with the crs 27700\n",
    "\n",
    "Candidate_points_1000_gdf['northing'] = Candidate_points_1000_gdf.geometry.y\n",
    "Candidate_points_1000_gdf['easting'] = Candidate_points_1000_gdf.geometry.x\n",
    "Candidate_points_1000_df = pd.DataFrame(Candidate_points_1000_gdf)\n",
    "Candidate_points_1000_df = Candidate_points_1000_df.drop(columns=['geometry'])\n",
    "Candidate_points_1000_df = Candidate_points_1000_df[['candidate_point_id', 'northing', 'easting']]\n",
    "\n",
    "# print the shape of the candidate points\n",
    "print(f\"Number of candidate points: {Candidate_points_1000_df.shape[0]}\")\n",
    "# print the maximum candidate point id\n",
    "print(f\"Maximum candidate point id: {Candidate_points_1000_df['candidate_point_id'].max()}\")"
   ]
  },
  {
   "cell_type": "code",
   "execution_count": 9,
   "metadata": {},
   "outputs": [
    {
     "data": {
      "text/html": [
       "<div>\n",
       "<style scoped>\n",
       "    .dataframe tbody tr th:only-of-type {\n",
       "        vertical-align: middle;\n",
       "    }\n",
       "\n",
       "    .dataframe tbody tr th {\n",
       "        vertical-align: top;\n",
       "    }\n",
       "\n",
       "    .dataframe thead th {\n",
       "        text-align: right;\n",
       "    }\n",
       "</style>\n",
       "<table border=\"1\" class=\"dataframe\">\n",
       "  <thead>\n",
       "    <tr style=\"text-align: right;\">\n",
       "      <th></th>\n",
       "      <th>candidate_point_id</th>\n",
       "      <th>northing</th>\n",
       "      <th>easting</th>\n",
       "    </tr>\n",
       "  </thead>\n",
       "  <tbody>\n",
       "    <tr>\n",
       "      <th>553</th>\n",
       "      <td>553</td>\n",
       "      <td>275206.9008</td>\n",
       "      <td>412080.4982</td>\n",
       "    </tr>\n",
       "    <tr>\n",
       "      <th>625</th>\n",
       "      <td>625</td>\n",
       "      <td>294206.9008</td>\n",
       "      <td>414080.4982</td>\n",
       "    </tr>\n",
       "    <tr>\n",
       "      <th>830</th>\n",
       "      <td>830</td>\n",
       "      <td>277206.9008</td>\n",
       "      <td>431080.4982</td>\n",
       "    </tr>\n",
       "    <tr>\n",
       "      <th>153</th>\n",
       "      <td>153</td>\n",
       "      <td>286206.9008</td>\n",
       "      <td>396080.4982</td>\n",
       "    </tr>\n",
       "    <tr>\n",
       "      <th>885</th>\n",
       "      <td>885</td>\n",
       "      <td>279206.9008</td>\n",
       "      <td>437080.4982</td>\n",
       "    </tr>\n",
       "  </tbody>\n",
       "</table>\n",
       "</div>"
      ],
      "text/plain": [
       "     candidate_point_id     northing      easting\n",
       "553                 553  275206.9008  412080.4982\n",
       "625                 625  294206.9008  414080.4982\n",
       "830                 830  277206.9008  431080.4982\n",
       "153                 153  286206.9008  396080.4982\n",
       "885                 885  279206.9008  437080.4982"
      ]
     },
     "execution_count": 9,
     "metadata": {},
     "output_type": "execute_result"
    }
   ],
   "source": [
    "Candidate_points_1000_df.sample(5)"
   ]
  },
  {
   "cell_type": "code",
   "execution_count": 10,
   "metadata": {},
   "outputs": [
    {
     "data": {
      "image/png": "[encoded data removed]",
      "text/plain": [
       "<Figure size 640x480 with 1 Axes>"
      ]
     },
     "metadata": {},
     "output_type": "display_data"
    }
   ],
   "source": [
    "\n",
    "# visualize the candidate grid points and the boundary of the west midlands area\n",
    "import matplotlib.pyplot as plt\n",
    "\n",
    "fig, ax = plt.subplots()\n",
    "Area_boundary.plot(ax=ax, edgecolor='black', facecolor='none')\n",
    "Candidate_points_1000_gdf.plot(ax=ax, color='red', markersize=1)\n",
    "plt.show()"
   ]
  },
  {
   "cell_type": "markdown",
   "metadata": {},
   "source": [
    "**Generate demands points**"
   ]
  },
  {
   "cell_type": "code",
   "execution_count": 11,
   "metadata": {},
   "outputs": [],
   "source": [
    "# import the demandpoints csv data\n",
    "DemandPoints_raw = pd.read_csv(\"data/processed/mobilisation.csv\")"
   ]
  },
  {
   "cell_type": "code",
   "execution_count": 12,
   "metadata": {},
   "outputs": [
    {
     "name": "stdout",
     "output_type": "stream",
     "text": [
      "Number of demand points: 2000\n",
      "Maximum demand point id: 1999\n"
     ]
    }
   ],
   "source": [
    "DemandPoints2 = DemandPoints_raw[DemandPoints_raw['call_year'] == 2023][['EASTINGS','NORTHINGS','incident_profile_label']].sample(2000, random_state=1)\n",
    "# reset the DemandPoints2 index to start from 0\n",
    "DemandPoints2.reset_index(drop=True, inplace=True)\n",
    "# change the column names of DemandPoints2 from 'EASTINGS' to 'easting' and 'NORTHINGS' to 'northing'\n",
    "DemandPoints2.columns = ['easting', 'northing', 'incident_profile_label']\n",
    "# set the column'demand_points_id' as the index\n",
    "DemandPoints2['demand_points_id'] = DemandPoints2.index\n",
    "DemandPoints = DemandPoints2.copy()\n",
    "\n",
    "# print the shape of the candidate points\n",
    "print(f\"Number of demand points: {DemandPoints.shape[0]}\")\n",
    "# print the maximum candidate point id\n",
    "print(f\"Maximum demand point id: {DemandPoints['demand_points_id'].max()}\")"
   ]
  },
  {
   "cell_type": "code",
   "execution_count": 14,
   "metadata": {},
   "outputs": [
    {
     "data": {
      "text/plain": [
       "Index(['easting', 'northing', 'incident_profile_label', 'demand_points_id'], dtype='object')"
      ]
     },
     "execution_count": 14,
     "metadata": {},
     "output_type": "execute_result"
    }
   ],
   "source": [
    "DemandPoints.columns"
   ]
  },
  {
   "cell_type": "code",
   "execution_count": 19,
   "metadata": {},
   "outputs": [],
   "source": [
    "# conver the DemandPoints, a pandas dataframe, to a geopandas dataframe with the crs 27700  \n",
    "DemandPoints_gdf = gpd.GeoDataFrame(DemandPoints, geometry=gpd.points_from_xy(DemandPoints.easting, DemandPoints.northing), crs='EPSG:27700')\n",
    "DemandPoints_gdf = DemandPoints_gdf.drop(columns=['easting', 'northing'])\n"
   ]
  },
  {
   "cell_type": "code",
   "execution_count": null,
   "metadata": {},
   "outputs": [],
   "source": [
    "DemandPoints_gdf.explore()"
   ]
  },
  {
   "cell_type": "markdown",
   "metadata": {},
   "source": [
    "**Generate the current point**"
   ]
  },
  {
   "cell_type": "code",
   "execution_count": 21,
   "metadata": {},
   "outputs": [
    {
     "data": {
      "text/html": [
       "<div>\n",
       "<style scoped>\n",
       "    .dataframe tbody tr th:only-of-type {\n",
       "        vertical-align: middle;\n",
       "    }\n",
       "\n",
       "    .dataframe tbody tr th {\n",
       "        vertical-align: top;\n",
       "    }\n",
       "\n",
       "    .dataframe thead th {\n",
       "        text-align: right;\n",
       "    }\n",
       "</style>\n",
       "<table border=\"1\" class=\"dataframe\">\n",
       "  <thead>\n",
       "    <tr style=\"text-align: right;\">\n",
       "      <th></th>\n",
       "      <th>Station name</th>\n",
       "      <th>Easting</th>\n",
       "      <th>Northing</th>\n",
       "      <th>PRL_Count</th>\n",
       "      <th>BRV_Count</th>\n",
       "      <th>Closed (Y/N)</th>\n",
       "      <th>Opened</th>\n",
       "      <th>Closed</th>\n",
       "    </tr>\n",
       "  </thead>\n",
       "  <tbody>\n",
       "    <tr>\n",
       "      <th>0</th>\n",
       "      <td>Aldridge</td>\n",
       "      <td>405203</td>\n",
       "      <td>302818</td>\n",
       "      <td>1</td>\n",
       "      <td>0</td>\n",
       "      <td>N</td>\n",
       "      <td>Before study period</td>\n",
       "      <td>NaN</td>\n",
       "    </tr>\n",
       "    <tr>\n",
       "      <th>1</th>\n",
       "      <td>Aston</td>\n",
       "      <td>407316</td>\n",
       "      <td>289711</td>\n",
       "      <td>1</td>\n",
       "      <td>1</td>\n",
       "      <td>N</td>\n",
       "      <td>Before study period</td>\n",
       "      <td>NaN</td>\n",
       "    </tr>\n",
       "    <tr>\n",
       "      <th>2</th>\n",
       "      <td>Bickenhill</td>\n",
       "      <td>419627</td>\n",
       "      <td>284038</td>\n",
       "      <td>1</td>\n",
       "      <td>0</td>\n",
       "      <td>N</td>\n",
       "      <td>Before study period</td>\n",
       "      <td>NaN</td>\n",
       "    </tr>\n",
       "    <tr>\n",
       "      <th>3</th>\n",
       "      <td>Billesley</td>\n",
       "      <td>409029</td>\n",
       "      <td>281369</td>\n",
       "      <td>1</td>\n",
       "      <td>1</td>\n",
       "      <td>N</td>\n",
       "      <td>Before study period</td>\n",
       "      <td>NaN</td>\n",
       "    </tr>\n",
       "  </tbody>\n",
       "</table>\n",
       "</div>"
      ],
      "text/plain": [
       "  Station name  Easting  Northing  PRL_Count  BRV_Count Closed (Y/N)  \\\n",
       "0     Aldridge   405203    302818          1          0            N   \n",
       "1        Aston   407316    289711          1          1            N   \n",
       "2   Bickenhill   419627    284038          1          0            N   \n",
       "3    Billesley   409029    281369          1          1            N   \n",
       "\n",
       "                Opened  Closed  \n",
       "0  Before study period     NaN  \n",
       "1  Before study period     NaN  \n",
       "2  Before study period     NaN  \n",
       "3  Before study period     NaN  "
      ]
     },
     "execution_count": 21,
     "metadata": {},
     "output_type": "execute_result"
    }
   ],
   "source": [
    "station_csv = pd.read_csv(\"data/processed/station_locations_38.csv\")\n",
    "station_csv.head(4)"
   ]
  },
  {
   "cell_type": "code",
   "execution_count": 22,
   "metadata": {},
   "outputs": [
    {
     "name": "stderr",
     "output_type": "stream",
     "text": [
      "C:\\Users\\SBH\\AppData\\Local\\Temp\\ipykernel_20348\\2850928818.py:4: SettingWithCopyWarning: \n",
      "A value is trying to be set on a copy of a slice from a DataFrame.\n",
      "Try using .loc[row_indexer,col_indexer] = value instead\n",
      "\n",
      "See the caveats in the documentation: https://pandas.pydata.org/pandas-docs/stable/user_guide/indexing.html#returning-a-view-versus-a-copy\n",
      "  station_points_38['current_id'] = station_points_38.index\n"
     ]
    },
    {
     "data": {
      "text/html": [
       "<div>\n",
       "<style scoped>\n",
       "    .dataframe tbody tr th:only-of-type {\n",
       "        vertical-align: middle;\n",
       "    }\n",
       "\n",
       "    .dataframe tbody tr th {\n",
       "        vertical-align: top;\n",
       "    }\n",
       "\n",
       "    .dataframe thead th {\n",
       "        text-align: right;\n",
       "    }\n",
       "</style>\n",
       "<table border=\"1\" class=\"dataframe\">\n",
       "  <thead>\n",
       "    <tr style=\"text-align: right;\">\n",
       "      <th></th>\n",
       "      <th>current_id</th>\n",
       "      <th>easting</th>\n",
       "      <th>northing</th>\n",
       "    </tr>\n",
       "  </thead>\n",
       "  <tbody>\n",
       "    <tr>\n",
       "      <th>12</th>\n",
       "      <td>12</td>\n",
       "      <td>411277</td>\n",
       "      <td>292051</td>\n",
       "    </tr>\n",
       "    <tr>\n",
       "      <th>14</th>\n",
       "      <td>14</td>\n",
       "      <td>434545</td>\n",
       "      <td>282370</td>\n",
       "    </tr>\n",
       "    <tr>\n",
       "      <th>4</th>\n",
       "      <td>4</td>\n",
       "      <td>394543</td>\n",
       "      <td>296040</td>\n",
       "    </tr>\n",
       "    <tr>\n",
       "      <th>27</th>\n",
       "      <td>27</td>\n",
       "      <td>390368</td>\n",
       "      <td>284156</td>\n",
       "    </tr>\n",
       "    <tr>\n",
       "      <th>23</th>\n",
       "      <td>23</td>\n",
       "      <td>408405</td>\n",
       "      <td>293078</td>\n",
       "    </tr>\n",
       "  </tbody>\n",
       "</table>\n",
       "</div>"
      ],
      "text/plain": [
       "    current_id  easting  northing\n",
       "12          12   411277    292051\n",
       "14          14   434545    282370\n",
       "4            4   394543    296040\n",
       "27          27   390368    284156\n",
       "23          23   408405    293078"
      ]
     },
     "execution_count": 22,
     "metadata": {},
     "output_type": "execute_result"
    }
   ],
   "source": [
    "station_points_38 = station_csv[['Easting', 'Northing']]\n",
    "# change the column names of station_points_38 from 'Easting' to 'easting' and 'Northing' to 'northing'\n",
    "station_points_38.columns = ['easting', 'northing']\n",
    "station_points_38['current_id'] = station_points_38.index\n",
    "station_points_38 = station_points_38[['current_id', 'easting', 'northing']]\n",
    "station_points_38.sample(5)"
   ]
  },
  {
   "cell_type": "markdown",
   "metadata": {},
   "source": [
    "**calculate Euclidean Distance**"
   ]
  },
  {
   "cell_type": "code",
   "execution_count": 17,
   "metadata": {},
   "outputs": [],
   "source": [
    "# calculate the euclidean distance between each candidate points and demands points\n",
    "coords1_demand = DemandPoints[['northing', 'easting']].values\n",
    "coords2_candidate = Candidate_points_1000_df[['northing', 'easting']].values\n",
    "coords3_current = station_points_38[['northing', 'easting']].values\n",
    "distance_matrix_candi = cdist(coords1_demand, coords2_candidate, metric='euclidean')\n",
    "disatance_matrix_current = cdist(coords1_demand, coords3_current, metric='euclidean')"
   ]
  },
  {
   "cell_type": "code",
   "execution_count": 18,
   "metadata": {},
   "outputs": [],
   "source": [
    "# 合并已有设施点和候选位置的距离矩阵\n",
    "distance_matrix = np.hstack((disatance_matrix_current, distance_matrix_candi))\n",
    "# 对矩阵内的所有元素进行取整操作\n",
    "distance_matrix = np.round(distance_matrix, 0)"
   ]
  },
  {
   "cell_type": "code",
   "execution_count": 18,
   "metadata": {},
   "outputs": [
    {
     "name": "stdout",
     "output_type": "stream",
     "text": [
      "Status: Optimal\n",
      "Selected Facilities:\n",
      "Facility at candidate location 481\n"
     ]
    },
    {
     "data": {
      "text/plain": [
       "'\\nprint(\"\\nDemand point assignments:\")\\nfor i in demand_points:\\n    for j in all_facilities:\\n        if pulp.value(y[i][j]) == 1:\\n            print(f\"Demand point {i} assigned to facility {j}\")\\n'"
      ]
     },
     "execution_count": 18,
     "metadata": {},
     "output_type": "execute_result"
    }
   ],
   "source": [
    "# 假设有2000个需求点\n",
    "demand_points = list(range(2000))\n",
    "\n",
    "# 现有的设施点位置\n",
    "current_facilities = list(range(38))  # 设施点0到37\n",
    "# 需要重新选址的设施点数量\n",
    "n_relocate = 1\n",
    "# 候选位置（897个）\n",
    "candidate_locations = list(range(38, 934))  # 设施点38到934，共897个\n",
    "\n",
    "# 初始化优化问题\n",
    "problem = pulp.LpProblem(\"P-Median_Problem_with_Relocation\", pulp.LpMinimize)\n",
    "\n",
    "# 定义决策变量\n",
    "# 包含现有设施点和候选设施点的所有位置\n",
    "all_facilities = current_facilities + candidate_locations\n",
    "x = pulp.LpVariable.dicts(\"Facility\", all_facilities, 0, 1, pulp.LpBinary)\n",
    "y = pulp.LpVariable.dicts(\"Assign\", (demand_points, all_facilities), 0, 1, pulp.LpBinary)\n",
    "\n",
    "# 添加目标函数：最小化总距离\n",
    "problem += pulp.lpSum(distance_matrix[i][j] * y[i][j] for i in demand_points for j in all_facilities)\n",
    "\n",
    "# 添加约束条件\n",
    "for i in demand_points:\n",
    "    problem += pulp.lpSum(y[i][j] for j in all_facilities) == 1  # 每个需求点必须分配给一个设施\n",
    "\n",
    "for j in all_facilities:\n",
    "    for i in demand_points:\n",
    "        problem += y[i][j] <= x[j]  # 只能分配给已选定的设施\n",
    "\n",
    "# 保证重新选址的设施数量\n",
    "problem += pulp.lpSum(x[j] for j in candidate_locations) == n_relocate\n",
    "\n",
    "# 确保现有的部分设施位置固定不变\n",
    "for facility in current_facilities:\n",
    "    problem += x[facility] == 1\n",
    "\n",
    "# 求解问题\n",
    "problem.solve()\n",
    "\n",
    "# 输出结果\n",
    "print(\"Status:\", pulp.LpStatus[problem.status])\n",
    "print(\"Selected Facilities:\")\n",
    "for j in candidate_locations:\n",
    "    if pulp.value(x[j]) == 1:\n",
    "        print(f\"Facility at candidate location {j}\")\n",
    "\n",
    "# 输出需求点分配\n",
    "\"\"\"\n",
    "print(\"\\nDemand point assignments:\")\n",
    "for i in demand_points:\n",
    "    for j in all_facilities:\n",
    "        if pulp.value(y[i][j]) == 1:\n",
    "            print(f\"Demand point {i} assigned to facility {j}\")\n",
    "\"\"\""
   ]
  },
  {
   "cell_type": "code",
   "execution_count": 24,
   "metadata": {},
   "outputs": [
    {
     "data": {
      "text/html": [
       "<div>\n",
       "<style scoped>\n",
       "    .dataframe tbody tr th:only-of-type {\n",
       "        vertical-align: middle;\n",
       "    }\n",
       "\n",
       "    .dataframe tbody tr th {\n",
       "        vertical-align: top;\n",
       "    }\n",
       "\n",
       "    .dataframe thead th {\n",
       "        text-align: right;\n",
       "    }\n",
       "</style>\n",
       "<table border=\"1\" class=\"dataframe\">\n",
       "  <thead>\n",
       "    <tr style=\"text-align: right;\">\n",
       "      <th></th>\n",
       "      <th>candidate_point_id</th>\n",
       "      <th>northing</th>\n",
       "      <th>easting</th>\n",
       "    </tr>\n",
       "  </thead>\n",
       "  <tbody>\n",
       "    <tr>\n",
       "      <th>481</th>\n",
       "      <td>481</td>\n",
       "      <td>279206.9008</td>\n",
       "      <td>409080.4982</td>\n",
       "    </tr>\n",
       "  </tbody>\n",
       "</table>\n",
       "</div>"
      ],
      "text/plain": [
       "     candidate_point_id     northing      easting\n",
       "481                 481  279206.9008  409080.4982"
      ]
     },
     "execution_count": 24,
     "metadata": {},
     "output_type": "execute_result"
    }
   ],
   "source": [
    "Candidate_points_1000_df[Candidate_points_1000_df['candidate_point_id']==481]"
   ]
  },
  {
   "cell_type": "code",
   "execution_count": 51,
   "metadata": {},
   "outputs": [
    {
     "data": {
      "image/png": "[encoded data removed]",
      "text/plain": [
       "<Figure size 640x480 with 1 Axes>"
      ]
     },
     "metadata": {},
     "output_type": "display_data"
    }
   ],
   "source": [
    "# plot this point on the map\n",
    "fig, ax = plt.subplots()\n",
    "Area_boundary.plot(ax=ax, edgecolor='black', facecolor='none')\n",
    "Candidate_points_1000_gdf.plot(ax=ax, color='red', markersize=1)\n",
    "plt.scatter(409080, 279207, color='blue', s=10)\n",
    "plt.show()"
   ]
  },
  {
   "cell_type": "code",
   "execution_count": 20,
   "metadata": {},
   "outputs": [
    {
     "name": "stdout",
     "output_type": "stream",
     "text": [
      "Status: Optimal\n",
      "Selected Facilities:\n",
      "Facility at candidate location 481\n",
      "Facility at candidate location 685\n"
     ]
    },
    {
     "data": {
      "text/plain": [
       "'\\nprint(\"\\nDemand point assignments:\")\\nfor i in demand_points:\\n    for j in all_facilities:\\n        if pulp.value(y[i][j]) == 1:\\n            print(f\"Demand point {i} assigned to facility {j}\")\\n'"
      ]
     },
     "execution_count": 20,
     "metadata": {},
     "output_type": "execute_result"
    }
   ],
   "source": [
    "# 假设有2000个需求点\n",
    "demand_points = list(range(2000))\n",
    "\n",
    "# 现有的设施点位置\n",
    "current_facilities = list(range(38))  # 设施点0到37\n",
    "# 需要重新选址的设施点数量\n",
    "n_relocate = 2\n",
    "# 候选位置（897个）\n",
    "candidate_locations = list(range(38, 934))  # 设施点38到934，共897个\n",
    "\n",
    "# 初始化优化问题\n",
    "problem = pulp.LpProblem(\"P-Median_Problem_with_Relocation\", pulp.LpMinimize)\n",
    "\n",
    "# 定义决策变量\n",
    "# 包含现有设施点和候选设施点的所有位置\n",
    "all_facilities = current_facilities + candidate_locations\n",
    "x = pulp.LpVariable.dicts(\"Facility\", all_facilities, 0, 1, pulp.LpBinary)\n",
    "y = pulp.LpVariable.dicts(\"Assign\", (demand_points, all_facilities), 0, 1, pulp.LpBinary)\n",
    "\n",
    "# 添加目标函数：最小化总距离\n",
    "problem += pulp.lpSum(distance_matrix[i][j] * y[i][j] for i in demand_points for j in all_facilities)\n",
    "\n",
    "# 添加约束条件\n",
    "for i in demand_points:\n",
    "    problem += pulp.lpSum(y[i][j] for j in all_facilities) == 1  # 每个需求点必须分配给一个设施\n",
    "\n",
    "for j in all_facilities:\n",
    "    for i in demand_points:\n",
    "        problem += y[i][j] <= x[j]  # 只能分配给已选定的设施\n",
    "\n",
    "# 保证重新选址的设施数量\n",
    "problem += pulp.lpSum(x[j] for j in candidate_locations) == n_relocate\n",
    "\n",
    "# 确保现有的部分设施位置固定不变\n",
    "for facility in current_facilities:\n",
    "    problem += x[facility] == 1\n",
    "\n",
    "# 求解问题\n",
    "problem.solve()\n",
    "\n",
    "# 输出结果\n",
    "print(\"Status:\", pulp.LpStatus[problem.status])\n",
    "print(\"Selected Facilities:\")\n",
    "for j in candidate_locations:\n",
    "    if pulp.value(x[j]) == 1:\n",
    "        print(f\"Facility at candidate location {j}\")\n",
    "\n",
    "# 输出需求点分配\n",
    "\"\"\"\n",
    "print(\"\\nDemand point assignments:\")\n",
    "for i in demand_points:\n",
    "    for j in all_facilities:\n",
    "        if pulp.value(y[i][j]) == 1:\n",
    "            print(f\"Demand point {i} assigned to facility {j}\")\n",
    "\"\"\""
   ]
  },
  {
   "cell_type": "code",
   "execution_count": 21,
   "metadata": {},
   "outputs": [
    {
     "data": {
      "text/html": [
       "<div>\n",
       "<style scoped>\n",
       "    .dataframe tbody tr th:only-of-type {\n",
       "        vertical-align: middle;\n",
       "    }\n",
       "\n",
       "    .dataframe tbody tr th {\n",
       "        vertical-align: top;\n",
       "    }\n",
       "\n",
       "    .dataframe thead th {\n",
       "        text-align: right;\n",
       "    }\n",
       "</style>\n",
       "<table border=\"1\" class=\"dataframe\">\n",
       "  <thead>\n",
       "    <tr style=\"text-align: right;\">\n",
       "      <th></th>\n",
       "      <th>candidate_point_id</th>\n",
       "      <th>northing</th>\n",
       "      <th>easting</th>\n",
       "    </tr>\n",
       "  </thead>\n",
       "  <tbody>\n",
       "    <tr>\n",
       "      <th>481</th>\n",
       "      <td>481</td>\n",
       "      <td>279206.9008</td>\n",
       "      <td>409080.4982</td>\n",
       "    </tr>\n",
       "  </tbody>\n",
       "</table>\n",
       "</div>"
      ],
      "text/plain": [
       "     candidate_point_id     northing      easting\n",
       "481                 481  279206.9008  409080.4982"
      ]
     },
     "execution_count": 21,
     "metadata": {},
     "output_type": "execute_result"
    }
   ],
   "source": [
    "Candidate_points_1000_df[Candidate_points_1000_df['candidate_point_id']==481]"
   ]
  },
  {
   "cell_type": "code",
   "execution_count": 22,
   "metadata": {},
   "outputs": [
    {
     "data": {
      "text/html": [
       "<div>\n",
       "<style scoped>\n",
       "    .dataframe tbody tr th:only-of-type {\n",
       "        vertical-align: middle;\n",
       "    }\n",
       "\n",
       "    .dataframe tbody tr th {\n",
       "        vertical-align: top;\n",
       "    }\n",
       "\n",
       "    .dataframe thead th {\n",
       "        text-align: right;\n",
       "    }\n",
       "</style>\n",
       "<table border=\"1\" class=\"dataframe\">\n",
       "  <thead>\n",
       "    <tr style=\"text-align: right;\">\n",
       "      <th></th>\n",
       "      <th>candidate_point_id</th>\n",
       "      <th>northing</th>\n",
       "      <th>easting</th>\n",
       "    </tr>\n",
       "  </thead>\n",
       "  <tbody>\n",
       "    <tr>\n",
       "      <th>685</th>\n",
       "      <td>685</td>\n",
       "      <td>280206.9008</td>\n",
       "      <td>417080.4982</td>\n",
       "    </tr>\n",
       "  </tbody>\n",
       "</table>\n",
       "</div>"
      ],
      "text/plain": [
       "     candidate_point_id     northing      easting\n",
       "685                 685  280206.9008  417080.4982"
      ]
     },
     "execution_count": 22,
     "metadata": {},
     "output_type": "execute_result"
    }
   ],
   "source": [
    "Candidate_points_1000_df[Candidate_points_1000_df['candidate_point_id']==685]"
   ]
  },
  {
   "cell_type": "code",
   "execution_count": 54,
   "metadata": {},
   "outputs": [
    {
     "data": {
      "image/png": "[encoded data removed]",
      "text/plain": [
       "<Figure size 640x480 with 1 Axes>"
      ]
     },
     "metadata": {},
     "output_type": "display_data"
    }
   ],
   "source": [
    "# plot this point on the map\n",
    "fig, ax = plt.subplots()\n",
    "Area_boundary.plot(ax=ax, edgecolor='black', facecolor='none')\n",
    "Candidate_points_1000_gdf.plot(ax=ax, color='red', markersize=1)\n",
    "plt.scatter(409080, 279207, color='blue', s=10)\n",
    "plt.scatter(417080, 280207, color='blue', s=10)\n",
    "plt.show()"
   ]
  },
  {
   "cell_type": "code",
   "execution_count": 23,
   "metadata": {},
   "outputs": [
    {
     "name": "stdout",
     "output_type": "stream",
     "text": [
      "Status: Optimal\n",
      "Selected Facilities:\n",
      "Facility at candidate location 375\n",
      "Facility at candidate location 481\n",
      "Facility at candidate location 685\n"
     ]
    }
   ],
   "source": [
    "# 假设有2000个需求点\n",
    "demand_points = list(range(2000))\n",
    "\n",
    "# 现有的设施点位置\n",
    "current_facilities = list(range(38))  # 设施点0到37\n",
    "# 需要重新选址的设施点数量\n",
    "n_relocate = 3\n",
    "# 候选位置（897个）\n",
    "candidate_locations = list(range(38, 934))  # 设施点38到934，共897个\n",
    "\n",
    "# 初始化优化问题\n",
    "problem = pulp.LpProblem(\"P-Median_Problem_with_Relocation\", pulp.LpMinimize)\n",
    "\n",
    "# 定义决策变量\n",
    "# 包含现有设施点和候选设施点的所有位置\n",
    "all_facilities = current_facilities + candidate_locations\n",
    "x = pulp.LpVariable.dicts(\"Facility\", all_facilities, 0, 1, pulp.LpBinary)\n",
    "y = pulp.LpVariable.dicts(\"Assign\", (demand_points, all_facilities), 0, 1, pulp.LpBinary)\n",
    "\n",
    "# 添加目标函数：最小化总距离\n",
    "problem += pulp.lpSum(distance_matrix[i][j] * y[i][j] for i in demand_points for j in all_facilities)\n",
    "\n",
    "# 添加约束条件\n",
    "for i in demand_points:\n",
    "    problem += pulp.lpSum(y[i][j] for j in all_facilities) == 1  # 每个需求点必须分配给一个设施\n",
    "\n",
    "for j in all_facilities:\n",
    "    for i in demand_points:\n",
    "        problem += y[i][j] <= x[j]  # 只能分配给已选定的设施\n",
    "\n",
    "# 保证重新选址的设施数量\n",
    "problem += pulp.lpSum(x[j] for j in candidate_locations) == n_relocate\n",
    "\n",
    "# 确保现有的部分设施位置固定不变\n",
    "for facility in current_facilities:\n",
    "    problem += x[facility] == 1\n",
    "\n",
    "# 求解问题\n",
    "problem.solve()\n",
    "\n",
    "# 输出结果\n",
    "print(\"Status:\", pulp.LpStatus[problem.status])\n",
    "print(\"Selected Facilities:\")\n",
    "for j in candidate_locations:\n",
    "    if pulp.value(x[j]) == 1:\n",
    "        print(f\"Facility at candidate location {j}\")"
   ]
  },
  {
   "cell_type": "code",
   "execution_count": 29,
   "metadata": {},
   "outputs": [
    {
     "data": {
      "text/html": [
       "<div>\n",
       "<style scoped>\n",
       "    .dataframe tbody tr th:only-of-type {\n",
       "        vertical-align: middle;\n",
       "    }\n",
       "\n",
       "    .dataframe tbody tr th {\n",
       "        vertical-align: top;\n",
       "    }\n",
       "\n",
       "    .dataframe thead th {\n",
       "        text-align: right;\n",
       "    }\n",
       "</style>\n",
       "<table border=\"1\" class=\"dataframe\">\n",
       "  <thead>\n",
       "    <tr style=\"text-align: right;\">\n",
       "      <th></th>\n",
       "      <th>candidate_point_id</th>\n",
       "      <th>northing</th>\n",
       "      <th>easting</th>\n",
       "    </tr>\n",
       "  </thead>\n",
       "  <tbody>\n",
       "    <tr>\n",
       "      <th>375</th>\n",
       "      <td>375</td>\n",
       "      <td>303206.9008</td>\n",
       "      <td>404080.4982</td>\n",
       "    </tr>\n",
       "  </tbody>\n",
       "</table>\n",
       "</div>"
      ],
      "text/plain": [
       "     candidate_point_id     northing      easting\n",
       "375                 375  303206.9008  404080.4982"
      ]
     },
     "execution_count": 29,
     "metadata": {},
     "output_type": "execute_result"
    }
   ],
   "source": [
    "Candidate_points_1000_df[Candidate_points_1000_df['candidate_point_id']==375]"
   ]
  },
  {
   "cell_type": "code",
   "execution_count": 28,
   "metadata": {},
   "outputs": [
    {
     "data": {
      "text/html": [
       "<div>\n",
       "<style scoped>\n",
       "    .dataframe tbody tr th:only-of-type {\n",
       "        vertical-align: middle;\n",
       "    }\n",
       "\n",
       "    .dataframe tbody tr th {\n",
       "        vertical-align: top;\n",
       "    }\n",
       "\n",
       "    .dataframe thead th {\n",
       "        text-align: right;\n",
       "    }\n",
       "</style>\n",
       "<table border=\"1\" class=\"dataframe\">\n",
       "  <thead>\n",
       "    <tr style=\"text-align: right;\">\n",
       "      <th></th>\n",
       "      <th>candidate_point_id</th>\n",
       "      <th>northing</th>\n",
       "      <th>easting</th>\n",
       "    </tr>\n",
       "  </thead>\n",
       "  <tbody>\n",
       "    <tr>\n",
       "      <th>481</th>\n",
       "      <td>481</td>\n",
       "      <td>279206.9008</td>\n",
       "      <td>409080.4982</td>\n",
       "    </tr>\n",
       "  </tbody>\n",
       "</table>\n",
       "</div>"
      ],
      "text/plain": [
       "     candidate_point_id     northing      easting\n",
       "481                 481  279206.9008  409080.4982"
      ]
     },
     "execution_count": 28,
     "metadata": {},
     "output_type": "execute_result"
    }
   ],
   "source": [
    "Candidate_points_1000_df[Candidate_points_1000_df['candidate_point_id']==481]"
   ]
  },
  {
   "cell_type": "code",
   "execution_count": 27,
   "metadata": {},
   "outputs": [
    {
     "data": {
      "text/html": [
       "<div>\n",
       "<style scoped>\n",
       "    .dataframe tbody tr th:only-of-type {\n",
       "        vertical-align: middle;\n",
       "    }\n",
       "\n",
       "    .dataframe tbody tr th {\n",
       "        vertical-align: top;\n",
       "    }\n",
       "\n",
       "    .dataframe thead th {\n",
       "        text-align: right;\n",
       "    }\n",
       "</style>\n",
       "<table border=\"1\" class=\"dataframe\">\n",
       "  <thead>\n",
       "    <tr style=\"text-align: right;\">\n",
       "      <th></th>\n",
       "      <th>candidate_point_id</th>\n",
       "      <th>northing</th>\n",
       "      <th>easting</th>\n",
       "    </tr>\n",
       "  </thead>\n",
       "  <tbody>\n",
       "    <tr>\n",
       "      <th>685</th>\n",
       "      <td>685</td>\n",
       "      <td>280206.9008</td>\n",
       "      <td>417080.4982</td>\n",
       "    </tr>\n",
       "  </tbody>\n",
       "</table>\n",
       "</div>"
      ],
      "text/plain": [
       "     candidate_point_id     northing      easting\n",
       "685                 685  280206.9008  417080.4982"
      ]
     },
     "execution_count": 27,
     "metadata": {},
     "output_type": "execute_result"
    }
   ],
   "source": [
    "Candidate_points_1000_df[Candidate_points_1000_df['candidate_point_id']==685]"
   ]
  },
  {
   "cell_type": "code",
   "execution_count": 59,
   "metadata": {},
   "outputs": [
    {
     "data": {
      "image/png": "[encoded data removed]",
      "text/plain": [
       "<Figure size 640x480 with 1 Axes>"
      ]
     },
     "metadata": {},
     "output_type": "display_data"
    }
   ],
   "source": [
    "# plot this point on the map\n",
    "fig, ax = plt.subplots()\n",
    "Area_boundary.plot(ax=ax, edgecolor='black', facecolor='none')\n",
    "Candidate_points_1000_gdf.plot(ax=ax, color='red', markersize=1)\n",
    "plt.scatter(404080, 303207, color='blue', s=10)\n",
    "plt.scatter(409080, 279207, color='blue', s=10)\n",
    "plt.scatter(417080, 280207, color='blue', s=10)\n",
    "plt.show()"
   ]
  },
  {
   "cell_type": "code",
   "execution_count": 19,
   "metadata": {},
   "outputs": [
    {
     "name": "stdout",
     "output_type": "stream",
     "text": [
      "Status: Optimal\n",
      "Selected Facilities:\n",
      "Facility at location 15\n",
      "Facility at location 76\n",
      "Facility at location 84\n",
      "Facility at location 87\n",
      "Facility at location 122\n",
      "Facility at location 138\n",
      "Facility at location 155\n",
      "Facility at location 205\n",
      "Facility at location 220\n",
      "Facility at location 258\n",
      "Facility at location 276\n",
      "Facility at location 287\n",
      "Facility at location 307\n",
      "Facility at location 319\n",
      "Facility at location 322\n",
      "Facility at location 325\n",
      "Facility at location 368\n",
      "Facility at location 389\n",
      "Facility at location 442\n",
      "Facility at location 449\n",
      "Facility at location 453\n",
      "Facility at location 457\n",
      "Facility at location 482\n",
      "Facility at location 488\n",
      "Facility at location 504\n",
      "Facility at location 542\n",
      "Facility at location 546\n",
      "Facility at location 554\n",
      "Facility at location 603\n",
      "Facility at location 612\n",
      "Facility at location 625\n",
      "Facility at location 675\n",
      "Facility at location 685\n",
      "Facility at location 747\n",
      "Facility at location 851\n",
      "Facility at location 889\n",
      "Facility at location 907\n",
      "Facility at location 922\n"
     ]
    }
   ],
   "source": [
    "# 假设有2000个需求点\n",
    "demand_points = list(range(2000))\n",
    "\n",
    "# 所有设施点位置（假设现有设施点位置也在0到37之间）\n",
    "all_facilities = list(range(934))  # 设施点0到933，共934个\n",
    "\n",
    "# 需要重新选址的设施点数量\n",
    "n_relocate = 38\n",
    "\n",
    "# 初始化优化问题\n",
    "problem = pulp.LpProblem(\"P-Median_Problem_with_Relocation\", pulp.LpMinimize)\n",
    "\n",
    "# 定义决策变量\n",
    "x = pulp.LpVariable.dicts(\"Facility\", all_facilities, 0, 1, pulp.LpBinary)\n",
    "y = pulp.LpVariable.dicts(\"Assign\", (demand_points, all_facilities), 0, 1, pulp.LpBinary)\n",
    "\n",
    "# 添加目标函数：最小化总距离\n",
    "problem += pulp.lpSum(distance_matrix[i][j] * y[i][j] for i in demand_points for j in all_facilities)\n",
    "\n",
    "# 添加约束条件\n",
    "for i in demand_points:\n",
    "    problem += pulp.lpSum(y[i][j] for j in all_facilities) == 1  # 每个需求点必须分配给一个设施\n",
    "\n",
    "for j in all_facilities:\n",
    "    for i in demand_points:\n",
    "        problem += y[i][j] <= x[j]  # 只能分配给已选定的设施\n",
    "\n",
    "# 保证选址的设施数量为38\n",
    "problem += pulp.lpSum(x[j] for j in all_facilities) == n_relocate\n",
    "\n",
    "# 求解问题\n",
    "problem.solve()\n",
    "\n",
    "# 输出结果\n",
    "print(\"Status:\", pulp.LpStatus[problem.status])\n",
    "print(\"Selected Facilities:\")\n",
    "\n",
    "# 创建DataFrame\n",
    "data = []\n",
    "for j in all_facilities:\n",
    "    if pulp.value(x[j]) == 1:\n",
    "        print(f\"Facility at location {j}\")\n",
    "        data.append([j])\n",
    "df = pd.DataFrame(data, columns=['facility_id'])"
   ]
  },
  {
   "cell_type": "code",
   "execution_count": 23,
   "metadata": {},
   "outputs": [
    {
     "data": {
      "text/html": [
       "<div>\n",
       "<style scoped>\n",
       "    .dataframe tbody tr th:only-of-type {\n",
       "        vertical-align: middle;\n",
       "    }\n",
       "\n",
       "    .dataframe tbody tr th {\n",
       "        vertical-align: top;\n",
       "    }\n",
       "\n",
       "    .dataframe thead th {\n",
       "        text-align: right;\n",
       "    }\n",
       "</style>\n",
       "<table border=\"1\" class=\"dataframe\">\n",
       "  <thead>\n",
       "    <tr style=\"text-align: right;\">\n",
       "      <th></th>\n",
       "      <th>facility_id</th>\n",
       "    </tr>\n",
       "  </thead>\n",
       "  <tbody>\n",
       "    <tr>\n",
       "      <th>0</th>\n",
       "      <td>15</td>\n",
       "    </tr>\n",
       "    <tr>\n",
       "      <th>1</th>\n",
       "      <td>76</td>\n",
       "    </tr>\n",
       "    <tr>\n",
       "      <th>2</th>\n",
       "      <td>84</td>\n",
       "    </tr>\n",
       "    <tr>\n",
       "      <th>3</th>\n",
       "      <td>87</td>\n",
       "    </tr>\n",
       "    <tr>\n",
       "      <th>4</th>\n",
       "      <td>122</td>\n",
       "    </tr>\n",
       "    <tr>\n",
       "      <th>5</th>\n",
       "      <td>138</td>\n",
       "    </tr>\n",
       "    <tr>\n",
       "      <th>6</th>\n",
       "      <td>155</td>\n",
       "    </tr>\n",
       "    <tr>\n",
       "      <th>7</th>\n",
       "      <td>205</td>\n",
       "    </tr>\n",
       "    <tr>\n",
       "      <th>8</th>\n",
       "      <td>220</td>\n",
       "    </tr>\n",
       "    <tr>\n",
       "      <th>9</th>\n",
       "      <td>258</td>\n",
       "    </tr>\n",
       "    <tr>\n",
       "      <th>10</th>\n",
       "      <td>276</td>\n",
       "    </tr>\n",
       "    <tr>\n",
       "      <th>11</th>\n",
       "      <td>287</td>\n",
       "    </tr>\n",
       "    <tr>\n",
       "      <th>12</th>\n",
       "      <td>307</td>\n",
       "    </tr>\n",
       "    <tr>\n",
       "      <th>13</th>\n",
       "      <td>319</td>\n",
       "    </tr>\n",
       "    <tr>\n",
       "      <th>14</th>\n",
       "      <td>322</td>\n",
       "    </tr>\n",
       "    <tr>\n",
       "      <th>15</th>\n",
       "      <td>325</td>\n",
       "    </tr>\n",
       "    <tr>\n",
       "      <th>16</th>\n",
       "      <td>368</td>\n",
       "    </tr>\n",
       "    <tr>\n",
       "      <th>17</th>\n",
       "      <td>389</td>\n",
       "    </tr>\n",
       "    <tr>\n",
       "      <th>18</th>\n",
       "      <td>442</td>\n",
       "    </tr>\n",
       "    <tr>\n",
       "      <th>19</th>\n",
       "      <td>449</td>\n",
       "    </tr>\n",
       "    <tr>\n",
       "      <th>20</th>\n",
       "      <td>453</td>\n",
       "    </tr>\n",
       "    <tr>\n",
       "      <th>21</th>\n",
       "      <td>457</td>\n",
       "    </tr>\n",
       "    <tr>\n",
       "      <th>22</th>\n",
       "      <td>482</td>\n",
       "    </tr>\n",
       "    <tr>\n",
       "      <th>23</th>\n",
       "      <td>488</td>\n",
       "    </tr>\n",
       "    <tr>\n",
       "      <th>24</th>\n",
       "      <td>504</td>\n",
       "    </tr>\n",
       "    <tr>\n",
       "      <th>25</th>\n",
       "      <td>542</td>\n",
       "    </tr>\n",
       "    <tr>\n",
       "      <th>26</th>\n",
       "      <td>546</td>\n",
       "    </tr>\n",
       "    <tr>\n",
       "      <th>27</th>\n",
       "      <td>554</td>\n",
       "    </tr>\n",
       "    <tr>\n",
       "      <th>28</th>\n",
       "      <td>603</td>\n",
       "    </tr>\n",
       "    <tr>\n",
       "      <th>29</th>\n",
       "      <td>612</td>\n",
       "    </tr>\n",
       "    <tr>\n",
       "      <th>30</th>\n",
       "      <td>625</td>\n",
       "    </tr>\n",
       "    <tr>\n",
       "      <th>31</th>\n",
       "      <td>675</td>\n",
       "    </tr>\n",
       "    <tr>\n",
       "      <th>32</th>\n",
       "      <td>685</td>\n",
       "    </tr>\n",
       "    <tr>\n",
       "      <th>33</th>\n",
       "      <td>747</td>\n",
       "    </tr>\n",
       "    <tr>\n",
       "      <th>34</th>\n",
       "      <td>851</td>\n",
       "    </tr>\n",
       "    <tr>\n",
       "      <th>35</th>\n",
       "      <td>889</td>\n",
       "    </tr>\n",
       "    <tr>\n",
       "      <th>36</th>\n",
       "      <td>907</td>\n",
       "    </tr>\n",
       "    <tr>\n",
       "      <th>37</th>\n",
       "      <td>922</td>\n",
       "    </tr>\n",
       "  </tbody>\n",
       "</table>\n",
       "</div>"
      ],
      "text/plain": [
       "    facility_id\n",
       "0            15\n",
       "1            76\n",
       "2            84\n",
       "3            87\n",
       "4           122\n",
       "5           138\n",
       "6           155\n",
       "7           205\n",
       "8           220\n",
       "9           258\n",
       "10          276\n",
       "11          287\n",
       "12          307\n",
       "13          319\n",
       "14          322\n",
       "15          325\n",
       "16          368\n",
       "17          389\n",
       "18          442\n",
       "19          449\n",
       "20          453\n",
       "21          457\n",
       "22          482\n",
       "23          488\n",
       "24          504\n",
       "25          542\n",
       "26          546\n",
       "27          554\n",
       "28          603\n",
       "29          612\n",
       "30          625\n",
       "31          675\n",
       "32          685\n",
       "33          747\n",
       "34          851\n",
       "35          889\n",
       "36          907\n",
       "37          922"
      ]
     },
     "execution_count": 23,
     "metadata": {},
     "output_type": "execute_result"
    }
   ],
   "source": [
    "df"
   ]
  },
  {
   "cell_type": "code",
   "execution_count": 26,
   "metadata": {},
   "outputs": [
    {
     "data": {
      "text/html": [
       "<div>\n",
       "<style scoped>\n",
       "    .dataframe tbody tr th:only-of-type {\n",
       "        vertical-align: middle;\n",
       "    }\n",
       "\n",
       "    .dataframe tbody tr th {\n",
       "        vertical-align: top;\n",
       "    }\n",
       "\n",
       "    .dataframe thead th {\n",
       "        text-align: right;\n",
       "    }\n",
       "</style>\n",
       "<table border=\"1\" class=\"dataframe\">\n",
       "  <thead>\n",
       "    <tr style=\"text-align: right;\">\n",
       "      <th></th>\n",
       "      <th>northing</th>\n",
       "      <th>easting</th>\n",
       "    </tr>\n",
       "  </thead>\n",
       "  <tbody>\n",
       "    <tr>\n",
       "      <th>0</th>\n",
       "      <td>298206.9008</td>\n",
       "      <td>387080.4982</td>\n",
       "    </tr>\n",
       "    <tr>\n",
       "      <th>1</th>\n",
       "      <td>287206.9008</td>\n",
       "      <td>388080.4982</td>\n",
       "    </tr>\n",
       "    <tr>\n",
       "      <th>2</th>\n",
       "      <td>288206.9008</td>\n",
       "      <td>388080.4982</td>\n",
       "    </tr>\n",
       "    <tr>\n",
       "      <th>3</th>\n",
       "      <td>289206.9008</td>\n",
       "      <td>388080.4982</td>\n",
       "    </tr>\n",
       "    <tr>\n",
       "      <th>4</th>\n",
       "      <td>290206.9008</td>\n",
       "      <td>388080.4982</td>\n",
       "    </tr>\n",
       "  </tbody>\n",
       "</table>\n",
       "</div>"
      ],
      "text/plain": [
       "      northing      easting\n",
       "0  298206.9008  387080.4982\n",
       "1  287206.9008  388080.4982\n",
       "2  288206.9008  388080.4982\n",
       "3  289206.9008  388080.4982\n",
       "4  290206.9008  388080.4982"
      ]
     },
     "execution_count": 26,
     "metadata": {},
     "output_type": "execute_result"
    }
   ],
   "source": [
    "Candidate_points_1000_df_1 = Candidate_points_1000_df.copy()\n",
    "# drop the 'points_id'  column\n",
    "Candidate_points_1000_df_1.drop(columns=['candidate_point_id'], inplace=True)\n",
    "Candidate_points_1000_df_1.head(5)"
   ]
  },
  {
   "cell_type": "code",
   "execution_count": 24,
   "metadata": {},
   "outputs": [
    {
     "data": {
      "text/plain": [
       "Index(['current_id', 'easting', 'northing'], dtype='object')"
      ]
     },
     "execution_count": 24,
     "metadata": {},
     "output_type": "execute_result"
    }
   ],
   "source": [
    "station_points_38.columns"
   ]
  },
  {
   "cell_type": "code",
   "execution_count": 25,
   "metadata": {},
   "outputs": [
    {
     "data": {
      "text/html": [
       "<div>\n",
       "<style scoped>\n",
       "    .dataframe tbody tr th:only-of-type {\n",
       "        vertical-align: middle;\n",
       "    }\n",
       "\n",
       "    .dataframe tbody tr th {\n",
       "        vertical-align: top;\n",
       "    }\n",
       "\n",
       "    .dataframe thead th {\n",
       "        text-align: right;\n",
       "    }\n",
       "</style>\n",
       "<table border=\"1\" class=\"dataframe\">\n",
       "  <thead>\n",
       "    <tr style=\"text-align: right;\">\n",
       "      <th></th>\n",
       "      <th>easting</th>\n",
       "      <th>northing</th>\n",
       "    </tr>\n",
       "  </thead>\n",
       "  <tbody>\n",
       "    <tr>\n",
       "      <th>0</th>\n",
       "      <td>405203</td>\n",
       "      <td>302818</td>\n",
       "    </tr>\n",
       "    <tr>\n",
       "      <th>1</th>\n",
       "      <td>407316</td>\n",
       "      <td>289711</td>\n",
       "    </tr>\n",
       "    <tr>\n",
       "      <th>2</th>\n",
       "      <td>419627</td>\n",
       "      <td>284038</td>\n",
       "    </tr>\n",
       "    <tr>\n",
       "      <th>3</th>\n",
       "      <td>409029</td>\n",
       "      <td>281369</td>\n",
       "    </tr>\n",
       "  </tbody>\n",
       "</table>\n",
       "</div>"
      ],
      "text/plain": [
       "   easting  northing\n",
       "0   405203    302818\n",
       "1   407316    289711\n",
       "2   419627    284038\n",
       "3   409029    281369"
      ]
     },
     "execution_count": 25,
     "metadata": {},
     "output_type": "execute_result"
    }
   ],
   "source": [
    "station_points_38_1 = station_points_38.copy()\n",
    "# drop the 'current_id' column\n",
    "station_points_38_1.drop(columns=['current_id'], inplace=True)"
   ]
  },
  {
   "cell_type": "code",
   "execution_count": 28,
   "metadata": {},
   "outputs": [
    {
     "data": {
      "text/html": [
       "<div>\n",
       "<style scoped>\n",
       "    .dataframe tbody tr th:only-of-type {\n",
       "        vertical-align: middle;\n",
       "    }\n",
       "\n",
       "    .dataframe tbody tr th {\n",
       "        vertical-align: top;\n",
       "    }\n",
       "\n",
       "    .dataframe thead th {\n",
       "        text-align: right;\n",
       "    }\n",
       "</style>\n",
       "<table border=\"1\" class=\"dataframe\">\n",
       "  <thead>\n",
       "    <tr style=\"text-align: right;\">\n",
       "      <th></th>\n",
       "      <th>northing</th>\n",
       "      <th>easting</th>\n",
       "    </tr>\n",
       "  </thead>\n",
       "  <tbody>\n",
       "    <tr>\n",
       "      <th>0</th>\n",
       "      <td>302818</td>\n",
       "      <td>405203</td>\n",
       "    </tr>\n",
       "    <tr>\n",
       "      <th>1</th>\n",
       "      <td>289711</td>\n",
       "      <td>407316</td>\n",
       "    </tr>\n",
       "    <tr>\n",
       "      <th>2</th>\n",
       "      <td>284038</td>\n",
       "      <td>419627</td>\n",
       "    </tr>\n",
       "    <tr>\n",
       "      <th>3</th>\n",
       "      <td>281369</td>\n",
       "      <td>409029</td>\n",
       "    </tr>\n",
       "  </tbody>\n",
       "</table>\n",
       "</div>"
      ],
      "text/plain": [
       "   northing  easting\n",
       "0    302818   405203\n",
       "1    289711   407316\n",
       "2    284038   419627\n",
       "3    281369   409029"
      ]
     },
     "execution_count": 28,
     "metadata": {},
     "output_type": "execute_result"
    }
   ],
   "source": [
    "# change the sequence of the columns in the station_points_38_1 dataframe\n",
    "station_points_38_1 = station_points_38_1[['northing', 'easting']]\n",
    "station_points_38_1.head(4)\n"
   ]
  },
  {
   "cell_type": "code",
   "execution_count": 30,
   "metadata": {},
   "outputs": [
    {
     "data": {
      "text/html": [
       "<div>\n",
       "<style scoped>\n",
       "    .dataframe tbody tr th:only-of-type {\n",
       "        vertical-align: middle;\n",
       "    }\n",
       "\n",
       "    .dataframe tbody tr th {\n",
       "        vertical-align: top;\n",
       "    }\n",
       "\n",
       "    .dataframe thead th {\n",
       "        text-align: right;\n",
       "    }\n",
       "</style>\n",
       "<table border=\"1\" class=\"dataframe\">\n",
       "  <thead>\n",
       "    <tr style=\"text-align: right;\">\n",
       "      <th></th>\n",
       "      <th>northing</th>\n",
       "      <th>easting</th>\n",
       "    </tr>\n",
       "  </thead>\n",
       "  <tbody>\n",
       "    <tr>\n",
       "      <th>0</th>\n",
       "      <td>302818.0000</td>\n",
       "      <td>405203.0000</td>\n",
       "    </tr>\n",
       "    <tr>\n",
       "      <th>1</th>\n",
       "      <td>289711.0000</td>\n",
       "      <td>407316.0000</td>\n",
       "    </tr>\n",
       "    <tr>\n",
       "      <th>2</th>\n",
       "      <td>284038.0000</td>\n",
       "      <td>419627.0000</td>\n",
       "    </tr>\n",
       "    <tr>\n",
       "      <th>3</th>\n",
       "      <td>281369.0000</td>\n",
       "      <td>409029.0000</td>\n",
       "    </tr>\n",
       "    <tr>\n",
       "      <th>4</th>\n",
       "      <td>296040.0000</td>\n",
       "      <td>394543.0000</td>\n",
       "    </tr>\n",
       "    <tr>\n",
       "      <th>...</th>\n",
       "      <td>...</td>\n",
       "      <td>...</td>\n",
       "    </tr>\n",
       "    <tr>\n",
       "      <th>892</th>\n",
       "      <td>279206.9008</td>\n",
       "      <td>438080.4982</td>\n",
       "    </tr>\n",
       "    <tr>\n",
       "      <th>893</th>\n",
       "      <td>280206.9008</td>\n",
       "      <td>438080.4982</td>\n",
       "    </tr>\n",
       "    <tr>\n",
       "      <th>894</th>\n",
       "      <td>281206.9008</td>\n",
       "      <td>438080.4982</td>\n",
       "    </tr>\n",
       "    <tr>\n",
       "      <th>895</th>\n",
       "      <td>282206.9008</td>\n",
       "      <td>438080.4982</td>\n",
       "    </tr>\n",
       "    <tr>\n",
       "      <th>896</th>\n",
       "      <td>281206.9008</td>\n",
       "      <td>439080.4982</td>\n",
       "    </tr>\n",
       "  </tbody>\n",
       "</table>\n",
       "<p>935 rows × 2 columns</p>\n",
       "</div>"
      ],
      "text/plain": [
       "        northing      easting\n",
       "0    302818.0000  405203.0000\n",
       "1    289711.0000  407316.0000\n",
       "2    284038.0000  419627.0000\n",
       "3    281369.0000  409029.0000\n",
       "4    296040.0000  394543.0000\n",
       "..           ...          ...\n",
       "892  279206.9008  438080.4982\n",
       "893  280206.9008  438080.4982\n",
       "894  281206.9008  438080.4982\n",
       "895  282206.9008  438080.4982\n",
       "896  281206.9008  439080.4982\n",
       "\n",
       "[935 rows x 2 columns]"
      ]
     },
     "execution_count": 30,
     "metadata": {},
     "output_type": "execute_result"
    }
   ],
   "source": [
    "# concatenate the Candidate_points_1000_df_1 and station_points_38_1 dataframes\n",
    "all_points_937 = pd.concat([station_points_38_1, Candidate_points_1000_df_1], axis=0)\n",
    "all_points_937"
   ]
  },
  {
   "cell_type": "code",
   "execution_count": 35,
   "metadata": {},
   "outputs": [],
   "source": [
    "selected_facilities = pd.read_csv(\"data/processed/selected_facility_locations_38.csv\")\n",
    "# convert the 'facility_id' columne to a list\n",
    "selected_facilities_list = selected_facilities['facility_id'].tolist()\n"
   ]
  },
  {
   "cell_type": "code",
   "execution_count": 37,
   "metadata": {},
   "outputs": [],
   "source": [
    "# filter out the selected facilities from the all_points_937 dataframe\n",
    "selected_facilities_df = all_points_937[all_points_937.index.isin(selected_facilities_list)]\n",
    "# convert the selected_facilities_df to a geodataframe\n",
    "selected_facilities_gdf = gpd.GeoDataFrame(selected_facilities_df, geometry=gpd.points_from_xy(selected_facilities_df.easting, selected_facilities_df.northing), crs='EPSG:27700')"
   ]
  },
  {
   "cell_type": "code",
   "execution_count": 39,
   "metadata": {},
   "outputs": [],
   "source": [
    "# save the selected_facilities_gdf to a shapefile\n",
    "selected_facilities_gdf.to_file(\"data/processed/selected_facility_locations_38.shp\")"
   ]
  },
  {
   "cell_type": "code",
   "execution_count": 38,
   "metadata": {},
   "outputs": [
    {
     "data": {
      "text/html": [
       "<div style=\"width:100%;\"><div style=\"position:relative;width:100%;height:0;padding-bottom:60%;\"><span style=\"color:#565656\">Make this Notebook Trusted to load map: File -> Trust Notebook</span><iframe srcdoc=\"&lt;!DOCTYPE html&gt;\n",
       "&lt;html&gt;\n",
       "&lt;head&gt;\n",
       "    \n",
       "    &lt;meta http-equiv=&quot;content-type&quot; content=&quot;text/html; charset=UTF-8&quot; /&gt;\n",
       "    \n",
       "        &lt;script&gt;\n",
       "            L_NO_TOUCH = false;\n",
       "            L_DISABLE_3D = false;\n",
       "        &lt;/script&gt;\n",
       "    \n",
       "    &lt;style&gt;html, body {width: 100%;height: 100%;margin: 0;padding: 0;}&lt;/style&gt;\n",
       "    &lt;style&gt;#map {position:absolute;top:0;bottom:0;right:0;left:0;}&lt;/style&gt;\n",
       "    &lt;script src=&quot;https://cdn.jsdelivr.net/npm/leaflet@1.9.3/dist/leaflet.js&quot;&gt;&lt;/script&gt;\n",
       "    &lt;script src=&quot;https://code.jquery.com/jquery-3.7.1.min.js&quot;&gt;&lt;/script&gt;\n",
       "    &lt;script src=&quot;https://cdn.jsdelivr.net/npm/bootstrap@5.2.2/dist/js/bootstrap.bundle.min.js&quot;&gt;&lt;/script&gt;\n",
       "    &lt;script src=&quot;https://cdnjs.cloudflare.com/ajax/libs/Leaflet.awesome-markers/2.0.2/leaflet.awesome-markers.js&quot;&gt;&lt;/script&gt;\n",
       "    &lt;link rel=&quot;stylesheet&quot; href=&quot;https://cdn.jsdelivr.net/npm/leaflet@1.9.3/dist/leaflet.css&quot;/&gt;\n",
       "    &lt;link rel=&quot;stylesheet&quot; href=&quot;https://cdn.jsdelivr.net/npm/bootstrap@5.2.2/dist/css/bootstrap.min.css&quot;/&gt;\n",
       "    &lt;link rel=&quot;stylesheet&quot; href=&quot;https://netdna.bootstrapcdn.com/bootstrap/3.0.0/css/bootstrap.min.css&quot;/&gt;\n",
       "    &lt;link rel=&quot;stylesheet&quot; href=&quot;https://cdn.jsdelivr.net/npm/@fortawesome/fontawesome-free@6.2.0/css/all.min.css&quot;/&gt;\n",
       "    &lt;link rel=&quot;stylesheet&quot; href=&quot;https://cdnjs.cloudflare.com/ajax/libs/Leaflet.awesome-markers/2.0.2/leaflet.awesome-markers.css&quot;/&gt;\n",
       "    &lt;link rel=&quot;stylesheet&quot; href=&quot;https://cdn.jsdelivr.net/gh/python-visualization/folium/folium/templates/leaflet.awesome.rotate.min.css&quot;/&gt;\n",
       "    \n",
       "            &lt;meta name=&quot;viewport&quot; content=&quot;width=device-width,\n",
       "                initial-scale=1.0, maximum-scale=1.0, user-scalable=no&quot; /&gt;\n",
       "            &lt;style&gt;\n",
       "                #map_7db400b9df355648d695f89ac584a70e {\n",
       "                    position: relative;\n",
       "                    width: 100.0%;\n",
       "                    height: 100.0%;\n",
       "                    left: 0.0%;\n",
       "                    top: 0.0%;\n",
       "                }\n",
       "                .leaflet-container { font-size: 1rem; }\n",
       "            &lt;/style&gt;\n",
       "        \n",
       "    \n",
       "                    &lt;style&gt;\n",
       "                        .foliumtooltip {\n",
       "                            \n",
       "                        }\n",
       "                       .foliumtooltip table{\n",
       "                            margin: auto;\n",
       "                        }\n",
       "                        .foliumtooltip tr{\n",
       "                            text-align: left;\n",
       "                        }\n",
       "                        .foliumtooltip th{\n",
       "                            padding: 2px; padding-right: 8px;\n",
       "                        }\n",
       "                    &lt;/style&gt;\n",
       "            \n",
       "&lt;/head&gt;\n",
       "&lt;body&gt;\n",
       "    \n",
       "    \n",
       "            &lt;div class=&quot;folium-map&quot; id=&quot;map_7db400b9df355648d695f89ac584a70e&quot; &gt;&lt;/div&gt;\n",
       "        \n",
       "&lt;/body&gt;\n",
       "&lt;script&gt;\n",
       "    \n",
       "    \n",
       "            var map_7db400b9df355648d695f89ac584a70e = L.map(\n",
       "                &quot;map_7db400b9df355648d695f89ac584a70e&quot;,\n",
       "                {\n",
       "                    center: [52.50517786891966, -1.8090559045557602],\n",
       "                    crs: L.CRS.EPSG3857,\n",
       "                    zoom: 10,\n",
       "                    zoomControl: true,\n",
       "                    preferCanvas: false,\n",
       "                }\n",
       "            );\n",
       "            L.control.scale().addTo(map_7db400b9df355648d695f89ac584a70e);\n",
       "\n",
       "            \n",
       "\n",
       "        \n",
       "    \n",
       "            var tile_layer_692ec14820673a6d293a99ed521018e0 = L.tileLayer(\n",
       "                &quot;https://{s}.tile.openstreetmap.org/{z}/{x}/{y}.png&quot;,\n",
       "                {&quot;attribution&quot;: &quot;Data by \\u0026copy; \\u003ca target=\\&quot;_blank\\&quot; href=\\&quot;http://openstreetmap.org\\&quot;\\u003eOpenStreetMap\\u003c/a\\u003e, under \\u003ca target=\\&quot;_blank\\&quot; href=\\&quot;http://www.openstreetmap.org/copyright\\&quot;\\u003eODbL\\u003c/a\\u003e.&quot;, &quot;detectRetina&quot;: false, &quot;maxNativeZoom&quot;: 18, &quot;maxZoom&quot;: 18, &quot;minZoom&quot;: 0, &quot;noWrap&quot;: false, &quot;opacity&quot;: 1, &quot;subdomains&quot;: &quot;abc&quot;, &quot;tms&quot;: false}\n",
       "            );\n",
       "        \n",
       "    \n",
       "                tile_layer_692ec14820673a6d293a99ed521018e0.addTo(map_7db400b9df355648d695f89ac584a70e);\n",
       "    \n",
       "            map_7db400b9df355648d695f89ac584a70e.fitBounds(\n",
       "                [[52.38377782397457, -2.162245769291934], [52.62657791386476, -1.4558660398195862]],\n",
       "                {}\n",
       "            );\n",
       "        \n",
       "    \n",
       "        function geo_json_993ecbed24220025a9763b2f442658bd_styler(feature) {\n",
       "            switch(feature.id) {\n",
       "                default:\n",
       "                    return {&quot;fillOpacity&quot;: 0.5, &quot;weight&quot;: 2};\n",
       "            }\n",
       "        }\n",
       "        function geo_json_993ecbed24220025a9763b2f442658bd_highlighter(feature) {\n",
       "            switch(feature.id) {\n",
       "                default:\n",
       "                    return {&quot;fillOpacity&quot;: 0.75};\n",
       "            }\n",
       "        }\n",
       "        function geo_json_993ecbed24220025a9763b2f442658bd_pointToLayer(feature, latlng) {\n",
       "            var opts = {&quot;bubblingMouseEvents&quot;: true, &quot;color&quot;: &quot;#3388ff&quot;, &quot;dashArray&quot;: null, &quot;dashOffset&quot;: null, &quot;fill&quot;: true, &quot;fillColor&quot;: &quot;#3388ff&quot;, &quot;fillOpacity&quot;: 0.2, &quot;fillRule&quot;: &quot;evenodd&quot;, &quot;lineCap&quot;: &quot;round&quot;, &quot;lineJoin&quot;: &quot;round&quot;, &quot;opacity&quot;: 1.0, &quot;radius&quot;: 2, &quot;stroke&quot;: true, &quot;weight&quot;: 3};\n",
       "            \n",
       "            let style = geo_json_993ecbed24220025a9763b2f442658bd_styler(feature)\n",
       "            Object.assign(opts, style)\n",
       "            \n",
       "            return new L.CircleMarker(latlng, opts)\n",
       "        }\n",
       "\n",
       "        function geo_json_993ecbed24220025a9763b2f442658bd_onEachFeature(feature, layer) {\n",
       "            layer.on({\n",
       "                mouseout: function(e) {\n",
       "                    if(typeof e.target.setStyle === &quot;function&quot;){\n",
       "                        geo_json_993ecbed24220025a9763b2f442658bd.resetStyle(e.target);\n",
       "                    }\n",
       "                },\n",
       "                mouseover: function(e) {\n",
       "                    if(typeof e.target.setStyle === &quot;function&quot;){\n",
       "                        const highlightStyle = geo_json_993ecbed24220025a9763b2f442658bd_highlighter(e.target.feature)\n",
       "                        e.target.setStyle(highlightStyle);\n",
       "                    }\n",
       "                },\n",
       "            });\n",
       "        };\n",
       "        var geo_json_993ecbed24220025a9763b2f442658bd = L.geoJson(null, {\n",
       "                onEachFeature: geo_json_993ecbed24220025a9763b2f442658bd_onEachFeature,\n",
       "            \n",
       "                style: geo_json_993ecbed24220025a9763b2f442658bd_styler,\n",
       "                pointToLayer: geo_json_993ecbed24220025a9763b2f442658bd_pointToLayer,\n",
       "        });\n",
       "\n",
       "        function geo_json_993ecbed24220025a9763b2f442658bd_add (data) {\n",
       "            geo_json_993ecbed24220025a9763b2f442658bd\n",
       "                .addData(data);\n",
       "        }\n",
       "            geo_json_993ecbed24220025a9763b2f442658bd_add({&quot;bbox&quot;: [-2.162245769291934, 52.38377782397457, -1.4558660398195862, 52.62657791386476], &quot;features&quot;: [{&quot;bbox&quot;: [-2.061099804744525, 52.46951517190672, -2.061099804744525, 52.46951517190672], &quot;geometry&quot;: {&quot;coordinates&quot;: [-2.061099804744525, 52.46951517190672], &quot;type&quot;: &quot;Point&quot;}, &quot;id&quot;: &quot;0&quot;, &quot;properties&quot;: {&quot;easting&quot;: 395946.0, &quot;northing&quot;: 285731.0}, &quot;type&quot;: &quot;Feature&quot;}, {&quot;bbox&quot;: [-2.162245769291934, 52.49167695937446, -2.162245769291934, 52.49167695937446], &quot;geometry&quot;: {&quot;coordinates&quot;: [-2.162245769291934, 52.49167695937446], &quot;type&quot;: &quot;Point&quot;}, &quot;id&quot;: &quot;1&quot;, &quot;properties&quot;: {&quot;easting&quot;: 389080.4982, &quot;northing&quot;: 288206.9008}, &quot;type&quot;: &quot;Feature&quot;}, {&quot;bbox&quot;: [-2.1181585836186376, 52.527689650857276, -2.1181585836186376, 52.527689650857276], &quot;geometry&quot;: {&quot;coordinates&quot;: [-2.1181585836186376, 52.527689650857276], &quot;type&quot;: &quot;Point&quot;}, &quot;id&quot;: &quot;2&quot;, &quot;properties&quot;: {&quot;easting&quot;: 392080.4982, &quot;northing&quot;: 292206.9008}, &quot;type&quot;: &quot;Feature&quot;}, {&quot;bbox&quot;: [-2.1183518868885907, 52.59960845181595, -2.1183518868885907, 52.59960845181595], &quot;geometry&quot;: {&quot;coordinates&quot;: [-2.1183518868885907, 52.59960845181595], &quot;type&quot;: &quot;Point&quot;}, &quot;id&quot;: &quot;3&quot;, &quot;properties&quot;: {&quot;easting&quot;: 392080.4982, &quot;northing&quot;: 300206.9008}, &quot;type&quot;: &quot;Feature&quot;}, {&quot;bbox&quot;: [-2.1184254187219294, 52.62657791386476, -2.1184254187219294, 52.62657791386476], &quot;geometry&quot;: {&quot;coordinates&quot;: [-2.1184254187219294, 52.62657791386476], &quot;type&quot;: &quot;Point&quot;}, &quot;id&quot;: &quot;4&quot;, &quot;properties&quot;: {&quot;easting&quot;: 392080.4982, &quot;northing&quot;: 303206.9008}, &quot;type&quot;: &quot;Feature&quot;}, {&quot;bbox&quot;: [-2.0887331254377286, 52.55468526742892, -2.0887331254377286, 52.55468526742892], &quot;geometry&quot;: {&quot;coordinates&quot;: [-2.0887331254377286, 52.55468526742892], &quot;type&quot;: &quot;Point&quot;}, &quot;id&quot;: &quot;5&quot;, &quot;properties&quot;: {&quot;easting&quot;: 394080.4982, &quot;northing&quot;: 295206.9008}, &quot;type&quot;: &quot;Feature&quot;}, {&quot;bbox&quot;: [-2.073908597162627, 52.50974584318212, -2.073908597162627, 52.50974584318212], &quot;geometry&quot;: {&quot;coordinates&quot;: [-2.073908597162627, 52.50974584318212], &quot;type&quot;: &quot;Point&quot;}, &quot;id&quot;: &quot;6&quot;, &quot;properties&quot;: {&quot;easting&quot;: 395080.4982, &quot;northing&quot;: 290206.9008}, &quot;type&quot;: &quot;Feature&quot;}, {&quot;bbox&quot;: [-2.0591499819463825, 52.49177450894398, -2.0591499819463825, 52.49177450894398], &quot;geometry&quot;: {&quot;coordinates&quot;: [-2.0591499819463825, 52.49177450894398], &quot;type&quot;: &quot;Point&quot;}, &quot;id&quot;: &quot;7&quot;, &quot;properties&quot;: {&quot;easting&quot;: 396080.4982, &quot;northing&quot;: 288206.9008}, &quot;type&quot;: &quot;Feature&quot;}, {&quot;bbox&quot;: [-2.0297375104484314, 52.554715017105565, -2.0297375104484314, 52.554715017105565], &quot;geometry&quot;: {&quot;coordinates&quot;: [-2.0297375104484314, 52.554715017105565], &quot;type&quot;: &quot;Point&quot;}, &quot;id&quot;: &quot;8&quot;, &quot;properties&quot;: {&quot;easting&quot;: 398080.4982, &quot;northing&quot;: 295206.9008}, &quot;type&quot;: &quot;Feature&quot;}, {&quot;bbox&quot;: [-2.0149656036438874, 52.49178834074625, -2.0149656036438874, 52.49178834074625], &quot;geometry&quot;: {&quot;coordinates&quot;: [-2.0149656036438874, 52.49178834074625], &quot;type&quot;: &quot;Point&quot;}, &quot;id&quot;: &quot;9&quot;, &quot;properties&quot;: {&quot;easting&quot;: 399080.4982, &quot;northing&quot;: 288206.9008}, &quot;type&quot;: &quot;Feature&quot;}, {&quot;bbox&quot;: [-2.000239342895356, 52.5996682106945, -2.000239342895356, 52.5996682106945], &quot;geometry&quot;: {&quot;coordinates&quot;: [-2.000239342895356, 52.5996682106945], &quot;type&quot;: &quot;Point&quot;}, &quot;id&quot;: &quot;10&quot;, &quot;properties&quot;: {&quot;easting&quot;: 400080.4982, &quot;northing&quot;: 300206.9008}, &quot;type&quot;: &quot;Feature&quot;}, {&quot;bbox&quot;: [-1.9855036798780388, 52.50976841481628, -1.9855036798780388, 52.50976841481628], &quot;geometry&quot;: {&quot;coordinates&quot;: [-1.9855036798780388, 52.50976841481628], &quot;type&quot;: &quot;Point&quot;}, &quot;id&quot;: &quot;11&quot;, &quot;properties&quot;: {&quot;easting&quot;: 401080.4982, &quot;northing&quot;: 290206.9008}, &quot;type&quot;: &quot;Feature&quot;}, {&quot;bbox&quot;: [-1.9854721294011266, 52.60865714226287, -1.9854721294011266, 52.60865714226287], &quot;geometry&quot;: {&quot;coordinates&quot;: [-1.9854721294011266, 52.60865714226287], &quot;type&quot;: &quot;Point&quot;}, &quot;id&quot;: &quot;12&quot;, &quot;properties&quot;: {&quot;easting&quot;: 401080.4982, &quot;northing&quot;: 301206.9008}, &quot;type&quot;: &quot;Feature&quot;}, {&quot;bbox&quot;: [-1.9707528071617832, 52.53673555986223, -1.9707528071617832, 52.53673555986223], &quot;geometry&quot;: {&quot;coordinates&quot;: [-1.9707528071617832, 52.53673555986223], &quot;type&quot;: &quot;Point&quot;}, &quot;id&quot;: &quot;13&quot;, &quot;properties&quot;: {&quot;easting&quot;: 402080.4982, &quot;northing&quot;: 293206.9008}, &quot;type&quot;: &quot;Feature&quot;}, {&quot;bbox&quot;: [-1.9561493245100046, 52.392890588000796, -1.9561493245100046, 52.392890588000796], &quot;geometry&quot;: {&quot;coordinates&quot;: [-1.9561493245100046, 52.392890588000796], &quot;type&quot;: &quot;Point&quot;}, &quot;id&quot;: &quot;14&quot;, &quot;properties&quot;: {&quot;easting&quot;: 403080.4982, &quot;northing&quot;: 277206.9008}, &quot;type&quot;: &quot;Feature&quot;}, {&quot;bbox&quot;: [-1.9561242104410184, 52.419860847428076, -1.9561242104410184, 52.419860847428076], &quot;geometry&quot;: {&quot;coordinates&quot;: [-1.9561242104410184, 52.419860847428076], &quot;type&quot;: &quot;Point&quot;}, &quot;id&quot;: &quot;15&quot;, &quot;properties&quot;: {&quot;easting&quot;: 403080.4982, &quot;northing&quot;: 280206.9008}, &quot;type&quot;: &quot;Feature&quot;}, {&quot;bbox&quot;: [-1.956098118471452, 52.44683094827317, -1.956098118471452, 52.44683094827317], &quot;geometry&quot;: {&quot;coordinates&quot;: [-1.956098118471452, 52.44683094827317], &quot;type&quot;: &quot;Point&quot;}, &quot;id&quot;: &quot;16&quot;, &quot;properties&quot;: {&quot;easting&quot;: 403080.4982, &quot;northing&quot;: 283206.9008}, &quot;type&quot;: &quot;Feature&quot;}, {&quot;bbox&quot;: [-1.9412301503334415, 52.5636941549793, -1.9412301503334415, 52.5636941549793], &quot;geometry&quot;: {&quot;coordinates&quot;: [-1.9412301503334415, 52.5636941549793], &quot;type&quot;: &quot;Point&quot;}, &quot;id&quot;: &quot;17&quot;, &quot;properties&quot;: {&quot;easting&quot;: 404080.4982, &quot;northing&quot;: 296206.9008}, &quot;type&quot;: &quot;Feature&quot;}, {&quot;bbox&quot;: [-1.9265980384768757, 52.49176639027279, -1.9265980384768757, 52.49176639027279], &quot;geometry&quot;: {&quot;coordinates&quot;: [-1.9265980384768757, 52.49176639027279], &quot;type&quot;: &quot;Point&quot;}, &quot;id&quot;: &quot;18&quot;, &quot;properties&quot;: {&quot;easting&quot;: 405080.4982, &quot;northing&quot;: 288206.9008}, &quot;type&quot;: &quot;Feature&quot;}, {&quot;bbox&quot;: [-1.897184284613101, 52.47376430130254, -1.897184284613101, 52.47376430130254], &quot;geometry&quot;: {&quot;coordinates&quot;: [-1.897184284613101, 52.47376430130254], &quot;type&quot;: &quot;Point&quot;}, &quot;id&quot;: &quot;19&quot;, &quot;properties&quot;: {&quot;easting&quot;: 407080.4982, &quot;northing&quot;: 286206.9008}, &quot;type&quot;: &quot;Feature&quot;}, {&quot;bbox&quot;: [-1.8970371595873787, 52.53669444559063, -1.8970371595873787, 52.53669444559063], &quot;geometry&quot;: {&quot;coordinates&quot;: [-1.8970371595873787, 52.53669444559063], &quot;type&quot;: &quot;Point&quot;}, &quot;id&quot;: &quot;20&quot;, &quot;properties&quot;: {&quot;easting&quot;: 407080.4982, &quot;northing&quot;: 293206.9008}, &quot;type&quot;: &quot;Feature&quot;}, {&quot;bbox&quot;: [-1.896952205554168, 52.57265382568427, -1.896952205554168, 52.57265382568427], &quot;geometry&quot;: {&quot;coordinates&quot;: [-1.896952205554168, 52.57265382568427], &quot;type&quot;: &quot;Point&quot;}, &quot;id&quot;: &quot;21&quot;, &quot;properties&quot;: {&quot;easting&quot;: 407080.4982, &quot;northing&quot;: 297206.9008}, &quot;type&quot;: &quot;Feature&quot;}, {&quot;bbox&quot;: [-1.8968682931666285, 52.60861326141078, -1.8968682931666285, 52.60861326141078], &quot;geometry&quot;: {&quot;coordinates&quot;: [-1.8968682931666285, 52.60861326141078], &quot;type&quot;: &quot;Point&quot;}, &quot;id&quot;: &quot;22&quot;, &quot;properties&quot;: {&quot;easting&quot;: 407080.4982, &quot;northing&quot;: 301206.9008}, &quot;type&quot;: &quot;Feature&quot;}, {&quot;bbox&quot;: [-1.8678999852498699, 52.41979493540086, -1.8678999852498699, 52.41979493540086], &quot;geometry&quot;: {&quot;coordinates&quot;: [-1.8678999852498699, 52.41979493540086], &quot;type&quot;: &quot;Point&quot;}, &quot;id&quot;: &quot;23&quot;, &quot;properties&quot;: {&quot;easting&quot;: 409080.4982, &quot;northing&quot;: 280206.9008}, &quot;type&quot;: &quot;Feature&quot;}, {&quot;bbox&quot;: [-1.867740369449411, 52.47373497434429, -1.867740369449411, 52.47373497434429], &quot;geometry&quot;: {&quot;coordinates&quot;: [-1.867740369449411, 52.47373497434429], &quot;type&quot;: &quot;Point&quot;}, &quot;id&quot;: &quot;24&quot;, &quot;properties&quot;: {&quot;easting&quot;: 409080.4982, &quot;northing&quot;: 286206.9008}, &quot;type&quot;: &quot;Feature&quot;}, {&quot;bbox&quot;: [-1.8532255084196052, 52.41078774817004, -1.8532255084196052, 52.41078774817004], &quot;geometry&quot;: {&quot;coordinates&quot;: [-1.8532255084196052, 52.41078774817004], &quot;type&quot;: &quot;Point&quot;}, &quot;id&quot;: &quot;25&quot;, &quot;properties&quot;: {&quot;easting&quot;: 410080.4982, &quot;northing&quot;: 279206.9008}, &quot;type&quot;: &quot;Feature&quot;}, {&quot;bbox&quot;: [-1.838130298748799, 52.51864819399163, -1.838130298748799, 52.51864819399163], &quot;geometry&quot;: {&quot;coordinates&quot;: [-1.838130298748799, 52.51864819399163], &quot;type&quot;: &quot;Point&quot;}, &quot;id&quot;: &quot;26&quot;, &quot;properties&quot;: {&quot;easting&quot;: 411080.4982, &quot;northing&quot;: 291206.9008}, &quot;type&quot;: &quot;Feature&quot;}, {&quot;bbox&quot;: [-1.8379970706268316, 52.55460797115041, -1.8379970706268316, 52.55460797115041], &quot;geometry&quot;: {&quot;coordinates&quot;: [-1.8379970706268316, 52.55460797115041], &quot;type&quot;: &quot;Point&quot;}, &quot;id&quot;: &quot;27&quot;, &quot;properties&quot;: {&quot;easting&quot;: 411080.4982, &quot;northing&quot;: 295206.9008}, &quot;type&quot;: &quot;Feature&quot;}, {&quot;bbox&quot;: [-1.8239299713346486, 52.38377782397457, -1.8239299713346486, 52.38377782397457], &quot;geometry&quot;: {&quot;coordinates&quot;: [-1.8239299713346486, 52.38377782397457], &quot;type&quot;: &quot;Point&quot;}, &quot;id&quot;: &quot;28&quot;, &quot;properties&quot;: {&quot;easting&quot;: 412080.4982, &quot;northing&quot;: 276206.9008}, &quot;type&quot;: &quot;Feature&quot;}, {&quot;bbox&quot;: [-1.8083431553711813, 52.590523916950445, -1.8083431553711813, 52.590523916950445], &quot;geometry&quot;: {&quot;coordinates&quot;: [-1.8083431553711813, 52.590523916950445], &quot;type&quot;: &quot;Point&quot;}, &quot;id&quot;: &quot;29&quot;, &quot;properties&quot;: {&quot;easting&quot;: 413080.4982, &quot;northing&quot;: 299206.9008}, &quot;type&quot;: &quot;Feature&quot;}, {&quot;bbox&quot;: [-1.7943383455737871, 52.42868063337377, -1.7943383455737871, 52.42868063337377], &quot;geometry&quot;: {&quot;coordinates&quot;: [-1.7943383455737871, 52.42868063337377], &quot;type&quot;: &quot;Point&quot;}, &quot;id&quot;: &quot;30&quot;, &quot;properties&quot;: {&quot;easting&quot;: 414080.4982, &quot;northing&quot;: 281206.9008}, &quot;type&quot;: &quot;Feature&quot;}, {&quot;bbox&quot;: [-1.7937918175891654, 52.545549393833596, -1.7937918175891654, 52.545549393833596], &quot;geometry&quot;: {&quot;coordinates&quot;: [-1.7937918175891654, 52.545549393833596], &quot;type&quot;: &quot;Point&quot;}, &quot;id&quot;: &quot;31&quot;, &quot;properties&quot;: {&quot;easting&quot;: 414080.4982, &quot;northing&quot;: 294206.9008}, &quot;type&quot;: &quot;Feature&quot;}, {&quot;bbox&quot;: [-1.7643488217652814, 52.53650493961021, -1.7643488217652814, 52.53650493961021], &quot;geometry&quot;: {&quot;coordinates&quot;: [-1.7643488217652814, 52.53650493961021], &quot;type&quot;: &quot;Point&quot;}, &quot;id&quot;: &quot;32&quot;, &quot;properties&quot;: {&quot;easting&quot;: 416080.4982, &quot;northing&quot;: 293206.9008}, &quot;type&quot;: &quot;Feature&quot;}, {&quot;bbox&quot;: [-1.7502678461772634, 52.419605840097994, -1.7502678461772634, 52.419605840097994], &quot;geometry&quot;: {&quot;coordinates&quot;: [-1.7502678461772634, 52.419605840097994], &quot;type&quot;: &quot;Point&quot;}, &quot;id&quot;: &quot;33&quot;, &quot;properties&quot;: {&quot;easting&quot;: 417080.4982, &quot;northing&quot;: 280206.9008}, &quot;type&quot;: &quot;Feature&quot;}, {&quot;bbox&quot;: [-1.6912643638958655, 52.44643687597131, -1.6912643638958655, 52.44643687597131], &quot;geometry&quot;: {&quot;coordinates&quot;: [-1.6912643638958655, 52.44643687597131], &quot;type&quot;: &quot;Point&quot;}, &quot;id&quot;: &quot;34&quot;, &quot;properties&quot;: {&quot;easting&quot;: 421080.4982, &quot;northing&quot;: 283206.9008}, &quot;type&quot;: &quot;Feature&quot;}, {&quot;bbox&quot;: [-1.515107957240718, 52.40988742005434, -1.515107957240718, 52.40988742005434], &quot;geometry&quot;: {&quot;coordinates&quot;: [-1.515107957240718, 52.40988742005434], &quot;type&quot;: &quot;Point&quot;}, &quot;id&quot;: &quot;35&quot;, &quot;properties&quot;: {&quot;easting&quot;: 433080.4982, &quot;northing&quot;: 279206.9008}, &quot;type&quot;: &quot;Feature&quot;}, {&quot;bbox&quot;: [-1.4558660398195862, 52.44559152997479, -1.4558660398195862, 52.44559152997479], &quot;geometry&quot;: {&quot;coordinates&quot;: [-1.4558660398195862, 52.44559152997479], &quot;type&quot;: &quot;Point&quot;}, &quot;id&quot;: &quot;36&quot;, &quot;properties&quot;: {&quot;easting&quot;: 437080.4982, &quot;northing&quot;: 283206.9008}, &quot;type&quot;: &quot;Feature&quot;}], &quot;type&quot;: &quot;FeatureCollection&quot;});\n",
       "\n",
       "        \n",
       "    \n",
       "    geo_json_993ecbed24220025a9763b2f442658bd.bindTooltip(\n",
       "    function(layer){\n",
       "    let div = L.DomUtil.create(&#x27;div&#x27;);\n",
       "    \n",
       "    let handleObject = feature=&gt;typeof(feature)==&#x27;object&#x27; ? JSON.stringify(feature) : feature;\n",
       "    let fields = [&quot;northing&quot;, &quot;easting&quot;];\n",
       "    let aliases = [&quot;northing&quot;, &quot;easting&quot;];\n",
       "    let table = &#x27;&lt;table&gt;&#x27; +\n",
       "        String(\n",
       "        fields.map(\n",
       "        (v,i)=&gt;\n",
       "        `&lt;tr&gt;\n",
       "            &lt;th&gt;${aliases[i]}&lt;/th&gt;\n",
       "            \n",
       "            &lt;td&gt;${handleObject(layer.feature.properties[v])}&lt;/td&gt;\n",
       "        &lt;/tr&gt;`).join(&#x27;&#x27;))\n",
       "    +&#x27;&lt;/table&gt;&#x27;;\n",
       "    div.innerHTML=table;\n",
       "    \n",
       "    return div\n",
       "    }\n",
       "    ,{&quot;className&quot;: &quot;foliumtooltip&quot;, &quot;sticky&quot;: true});\n",
       "                     \n",
       "    \n",
       "                geo_json_993ecbed24220025a9763b2f442658bd.addTo(map_7db400b9df355648d695f89ac584a70e);\n",
       "&lt;/script&gt;\n",
       "&lt;/html&gt;\" style=\"position:absolute;width:100%;height:100%;left:0;top:0;border:none !important;\" allowfullscreen webkitallowfullscreen mozallowfullscreen></iframe></div></div>"
      ],
      "text/plain": [
       "<folium.folium.Map at 0x1485633fb50>"
      ]
     },
     "execution_count": 38,
     "metadata": {},
     "output_type": "execute_result"
    }
   ],
   "source": [
    "selected_facilities_gdf.explore()"
   ]
  },
  {
   "cell_type": "code",
   "execution_count": 21,
   "metadata": {},
   "outputs": [],
   "source": [
    "df.to_csv('data/processed/selected_facility_locations_38.csv', index=False)"
   ]
  }
 ],
 "metadata": {
  "kernelspec": {
   "display_name": "base",
   "language": "python",
   "name": "python3"
  },
  "language_info": {
   "codemirror_mode": {
    "name": "ipython",
    "version": 3
   },
   "file_extension": ".py",
   "mimetype": "text/x-python",
   "name": "python",
   "nbconvert_exporter": "python",
   "pygments_lexer": "ipython3",
   "version": "3.11.5"
  }
 },
 "nbformat": 4,
 "nbformat_minor": 2
}
