{
 "cells": [
  {
   "cell_type": "code",
   "execution_count": 1,
   "metadata": {},
   "outputs": [],
   "source": [
    "import osmnx as ox\n",
    "import networkx as nx\n",
    "import geopandas as gpd\n",
    "from shapely.geometry import Point, Polygon\n",
    "import matplotlib.pyplot as plt\n",
    "import os\n",
    "import pandas as pd\n",
    "from shapely.ops import unary_union"
   ]
  },
  {
   "cell_type": "code",
   "execution_count": 2,
   "metadata": {},
   "outputs": [
    {
     "name": "stdout",
     "output_type": "stream",
     "text": [
      "Original CRS: epsg:4326\n",
      "Projected CRS: EPSG:27700\n"
     ]
    }
   ],
   "source": [
    "# define the place name for the west midlands area\n",
    "place_name = \"West midlands, UK\"\n",
    "# download the road network data from osmnx from the OSM API\n",
    "RoadNetworkGraph = ox.graph_from_place(place_name, network_type='drive')\n",
    "print(f\"Original CRS: {RoadNetworkGraph.graph['crs']}\")\n",
    "# project the road network to the British National Grid (EPSG:27700)\n",
    "RoadNetworkGraph_projected = ox.project_graph(RoadNetworkGraph, to_crs='EPSG:27700')\n",
    "# check the CRS\n",
    "print(f\"Projected CRS: {RoadNetworkGraph_projected.graph['crs']}\")"
   ]
  },
  {
   "cell_type": "code",
   "execution_count": 3,
   "metadata": {},
   "outputs": [
    {
     "name": "stdout",
     "output_type": "stream",
     "text": [
      "Number of nodes: 83323\n",
      "Number of edges: 184282\n"
     ]
    }
   ],
   "source": [
    "# check how many nodes and edges in the graph\n",
    "print(f\"Number of nodes: {len(RoadNetworkGraph_projected.nodes)}\")\n",
    "print(f\"Number of edges: {len(RoadNetworkGraph_projected.edges)}\")"
   ]
  },
  {
   "cell_type": "code",
   "execution_count": 4,
   "metadata": {},
   "outputs": [
    {
     "name": "stdout",
     "output_type": "stream",
     "text": [
      "Is the graph directed? True\n",
      "Is the graph fully connected? True\n"
     ]
    }
   ],
   "source": [
    "# check if the network is a directed graph\n",
    "print(f\"Is the graph directed? {nx.is_directed(RoadNetworkGraph_projected)}\")\n",
    "# change the graph to an undirected graph\n",
    "RoadNetworkGraph_undirected = RoadNetworkGraph_projected.to_undirected()\n",
    "# check if the network is fully connected\n",
    "print(f\"Is the graph fully connected? {nx.is_connected(RoadNetworkGraph_undirected)}\")"
   ]
  },
  {
   "cell_type": "code",
   "execution_count": 5,
   "metadata": {},
   "outputs": [],
   "source": [
    "import pulp\n",
    "import numpy as np\n",
    "import geopandas as gpd\n",
    "from shapely.geometry import Point, Polygon\n",
    "import numpy as np"
   ]
  },
  {
   "cell_type": "code",
   "execution_count": 6,
   "metadata": {},
   "outputs": [],
   "source": [
    "# import the boundary of the west midlands area\n",
    "Area_boundary = gpd.read_file(os.path.join(\"data/westmidslands/westmidlands.shp\"))\n"
   ]
  },
  {
   "cell_type": "code",
   "execution_count": 7,
   "metadata": {},
   "outputs": [
    {
     "name": "stdout",
     "output_type": "stream",
     "text": [
      "Area_boundary's CRS: EPSG:27700\n"
     ]
    }
   ],
   "source": [
    "# check area_boundary's crs\n",
    "print(f\"Area_boundary's CRS: {Area_boundary.crs}\")"
   ]
  },
  {
   "cell_type": "code",
   "execution_count": 8,
   "metadata": {},
   "outputs": [],
   "source": [
    "# let us generate a grid of points within the boundary of the west midlands area\n",
    "polygon = Area_boundary.geometry.iloc[0]\n",
    "\n",
    "# define the grid spacing (1000 meters)\n",
    "grid_spacing = 1000  # 1000 meters\n",
    "\n",
    "# get the bounds of the polygon\n",
    "minx, miny, maxx, maxy = polygon.bounds\n",
    "\n",
    "# generate the x and y coordinates for the grid points\n",
    "x_coords = np.arange(minx, maxx, grid_spacing)\n",
    "y_coords = np.arange(miny, maxy, grid_spacing)\n",
    "grid_points = [Point(x, y) for x in x_coords for y in y_coords]\n",
    "\n",
    "# filter out the points that are outside the polygon\n",
    "points_within_polygon = [point for point in grid_points if polygon.contains(point)]\n",
    "\n",
    "# create a geodataframe for the points\n",
    "Candidate_points_1000_gdf = gpd.GeoDataFrame(geometry=points_within_polygon, crs=Area_boundary.crs)\n"
   ]
  },
  {
   "cell_type": "code",
   "execution_count": 9,
   "metadata": {},
   "outputs": [
    {
     "data": {
      "text/plain": [
       "Index(['geometry', 'point_id'], dtype='object')"
      ]
     },
     "execution_count": 9,
     "metadata": {},
     "output_type": "execute_result"
    }
   ],
   "source": [
    "# let the index of the candidate points be the candidate point id\n",
    "Candidate_points_1000_gdf['point_id'] = Candidate_points_1000_gdf.index\n",
    "Candidate_points_1000_gdf.columns"
   ]
  },
  {
   "cell_type": "code",
   "execution_count": null,
   "metadata": {},
   "outputs": [],
   "source": [
    "# calculate the euclidean distance between each candidate points and demands points"
   ]
  },
  {
   "cell_type": "code",
   "execution_count": 32,
   "metadata": {},
   "outputs": [],
   "source": [
    "# import the demandpoints csv data\n",
    "DemandPoints_raw = pd.read_csv(\"data/processed/mobilisation.csv\")"
   ]
  },
  {
   "cell_type": "code",
   "execution_count": 34,
   "metadata": {},
   "outputs": [
    {
     "data": {
      "text/plain": [
       "Index(['Incident_Number', 'callsign_type', 'call_time', 'callsign_station',\n",
       "       'initial_incident_type', 'incident_classification_label',\n",
       "       'incident_profile_label', 'incident_classification_level1',\n",
       "       'call_seconds', 'reaction_seconds', 'driving_seconds',\n",
       "       'on_scene_seconds', 'EASTINGS', 'NORTHINGS', 'call_hour', 'call_day',\n",
       "       'call_month', 'call_year', 'Station name', 'Sta_Easting',\n",
       "       'Sta_Northing', 'PRL_Count', 'BRV_Count', 'Closed (Y/N)', 'Opened',\n",
       "       'Closed'],\n",
       "      dtype='object')"
      ]
     },
     "execution_count": 34,
     "metadata": {},
     "output_type": "execute_result"
    }
   ],
   "source": [
    "DemandPoints_raw.columns"
   ]
  },
  {
   "cell_type": "code",
   "execution_count": 36,
   "metadata": {},
   "outputs": [],
   "source": [
    "# create a new column called 'id' for the demand points same as thier index\n",
    "DemandPoints_raw['id'] = DemandPoints_raw.index"
   ]
  },
  {
   "cell_type": "code",
   "execution_count": 39,
   "metadata": {},
   "outputs": [
    {
     "data": {
      "text/html": [
       "<div>\n",
       "<style scoped>\n",
       "    .dataframe tbody tr th:only-of-type {\n",
       "        vertical-align: middle;\n",
       "    }\n",
       "\n",
       "    .dataframe tbody tr th {\n",
       "        vertical-align: top;\n",
       "    }\n",
       "\n",
       "    .dataframe thead th {\n",
       "        text-align: right;\n",
       "    }\n",
       "</style>\n",
       "<table border=\"1\" class=\"dataframe\">\n",
       "  <thead>\n",
       "    <tr style=\"text-align: right;\">\n",
       "      <th></th>\n",
       "      <th>id</th>\n",
       "      <th>EASTINGS</th>\n",
       "      <th>NORTHINGS</th>\n",
       "      <th>incident_profile_label</th>\n",
       "    </tr>\n",
       "  </thead>\n",
       "  <tbody>\n",
       "    <tr>\n",
       "      <th>513123</th>\n",
       "      <td>513123</td>\n",
       "      <td>433570.980020</td>\n",
       "      <td>278379.786107</td>\n",
       "      <td>Low Risk</td>\n",
       "    </tr>\n",
       "    <tr>\n",
       "      <th>515872</th>\n",
       "      <td>515872</td>\n",
       "      <td>405163.291644</td>\n",
       "      <td>284321.225580</td>\n",
       "      <td>False Alarms</td>\n",
       "    </tr>\n",
       "    <tr>\n",
       "      <th>538103</th>\n",
       "      <td>538103</td>\n",
       "      <td>406656.299917</td>\n",
       "      <td>286446.205850</td>\n",
       "      <td>Low Risk</td>\n",
       "    </tr>\n",
       "    <tr>\n",
       "      <th>533388</th>\n",
       "      <td>533388</td>\n",
       "      <td>400925.163139</td>\n",
       "      <td>301258.756411</td>\n",
       "      <td>High Risk</td>\n",
       "    </tr>\n",
       "    <tr>\n",
       "      <th>527977</th>\n",
       "      <td>527977</td>\n",
       "      <td>429447.357819</td>\n",
       "      <td>277995.022672</td>\n",
       "      <td>False Alarms</td>\n",
       "    </tr>\n",
       "  </tbody>\n",
       "</table>\n",
       "</div>"
      ],
      "text/plain": [
       "            id       EASTINGS      NORTHINGS incident_profile_label\n",
       "513123  513123  433570.980020  278379.786107               Low Risk\n",
       "515872  515872  405163.291644  284321.225580           False Alarms\n",
       "538103  538103  406656.299917  286446.205850               Low Risk\n",
       "533388  533388  400925.163139  301258.756411              High Risk\n",
       "527977  527977  429447.357819  277995.022672           False Alarms"
      ]
     },
     "execution_count": 39,
     "metadata": {},
     "output_type": "execute_result"
    }
   ],
   "source": [
    "DemandPoints = DemandPoints_raw[DemandPoints_raw['call_year'] == 2023][['id','EASTINGS','NORTHINGS','incident_profile_label']].sample(1000, random_state=1)\n",
    "DemandPoints.sample(5)"
   ]
  },
  {
   "cell_type": "code",
   "execution_count": null,
   "metadata": {},
   "outputs": [],
   "source": [
    "\n",
    "# visualize the grid points and the boundary of the west midlands area\n",
    "import matplotlib.pyplot as plt\n",
    "\n",
    "fig, ax = plt.subplots()\n",
    "Area_boundary.plot(ax=ax, edgecolor='black', facecolor='none')\n",
    "points_gdf.plot(ax=ax, color='red', markersize=1)\n",
    "plt.show()\n"
   ]
  },
  {
   "cell_type": "code",
   "execution_count": null,
   "metadata": {},
   "outputs": [],
   "source": [
    "\n",
    "# 假设有4个需求点\n",
    "demand_points = [1, 2, 3, 4]\n",
    "\n",
    "# 定义距离矩阵\n",
    "# 4个需求点到10个已有设施点的距离矩阵 (4x10)\n",
    "distance_matrix_existing = np.array([\n",
    "    [0, 2, 4, 7, 3, 8, 6, 4, 5, 9],\n",
    "    [2, 0, 1, 5, 2, 3, 8, 7, 6, 2],\n",
    "    [4, 1, 0, 3, 7, 5, 2, 6, 8, 4],\n",
    "    [7, 5, 3, 0, 4, 7, 3, 2, 5, 6]\n",
    "])\n",
    "\n",
    "# 4个需求点到50个候选位置的距离矩阵 (4x50)\n",
    "distance_matrix_candidates = np.random.randint(1, 10, size=(4, 50))\n",
    "\n",
    "# 合并已有设施点和候选位置的距离矩阵 (4x60)\n",
    "distance_matrix = np.hstack((distance_matrix_existing, distance_matrix_candidates))\n",
    "\n",
    "# 现有的设施点位置\n",
    "current_facilities = list(range(1, 11))  # 设施点1到10\n",
    "# 需要重新选址的设施点数量\n",
    "n_relocate = 2\n",
    "# 候选位置（50个）\n",
    "candidate_locations = list(range(11, 61))  # 设施点11到60\n",
    "\n",
    "# 初始化优化问题\n",
    "problem = pulp.LpProblem(\"P-Center_Problem_with_Relocation\", pulp.LpMinimize)\n",
    "\n",
    "# 定义决策变量\n",
    "x = pulp.LpVariable.dicts(\"Facility\", candidate_locations, 0, 1, pulp.LpBinary)\n",
    "y = pulp.LpVariable(\"Max_Distance\")\n",
    "\n",
    "# 添加目标函数：最小化最大距离\n",
    "problem += y\n",
    "\n",
    "# 添加约束条件\n",
    "for i in range(len(demand_points)):\n",
    "    problem += y >= pulp.lpSum(distance_matrix[i][j-1] * x[j] for j in candidate_locations)\n",
    "\n",
    "problem += pulp.lpSum(x[j] for j in candidate_locations) == n_relocate\n",
    "\n",
    "# 确保现有的部分设施位置固定不变\n",
    "for facility in current_facilities:\n",
    "    problem += x[facility] == 1\n",
    "\n",
    "# 求解问题\n",
    "problem.solve()\n",
    "\n",
    "# 输出结果\n",
    "print(\"Status:\", pulp.LpStatus[problem.status])\n",
    "print(\"Max Distance:\", pulp.value(y))\n",
    "print(\"Selected Facilities:\")\n",
    "for j in candidate_locations:\n",
    "    if pulp.value(x[j]) == 1:\n",
    "        print(f\"Facility at candidate location {j}\")\n"
   ]
  }
 ],
 "metadata": {
  "kernelspec": {
   "display_name": "base",
   "language": "python",
   "name": "python3"
  },
  "language_info": {
   "codemirror_mode": {
    "name": "ipython",
    "version": 3
   },
   "file_extension": ".py",
   "mimetype": "text/x-python",
   "name": "python",
   "nbconvert_exporter": "python",
   "pygments_lexer": "ipython3",
   "version": "3.11.5"
  }
 },
 "nbformat": 4,
 "nbformat_minor": 2
}
